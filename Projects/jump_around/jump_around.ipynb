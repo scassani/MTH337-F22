{
 "cells": [
  {
   "cell_type": "markdown",
   "metadata": {},
   "source": [
    "## **Jump around**\n"
   ]
  },
  {
   "cell_type": "markdown",
   "metadata": {},
   "source": [
    "**due: Friday, Oct. 14 at 11:59 pm**\n",
    "\n",
    "In this project we are going to explore the following algorithm:\n",
    "\n",
    "0. Start with a regular triangle\n",
    "1. Select a random point $\\mathbf{p}_0$ inside the triangle\n",
    "2. Select a vertex  $\\mathbf{v}$ of the triangle at random\n",
    "3. The point $\\mathbf{p}_1$ is found moving a fraction $f=\\frac{1}{2}$ of the distance between $\\mathbf{p}_0$ and $\\mathbf{v}$ in the direction of $\\mathbf{v}$\n",
    "4. Store $\\mathbf{p}_1$ in a container and update $\\mathbf{p}_0$ = $\\mathbf{p}_1$\n",
    "5. Go back at step 2 (repeat steps 2-5 for a _large_ number of times)\n",
    "6. Sketch all of the points obtained, except the first $m$ (where $m$ is a _small_ number)"
   ]
  },
  {
   "cell_type": "markdown",
   "metadata": {},
   "source": [
    "**Ex.1** Write a Python function `vertices(n)`. The function should return the vertices of a regular cyclic polygon with `n` sides (inscribed in a circle with radius 1)"
   ]
  },
  {
   "cell_type": "code",
   "execution_count": 10,
   "metadata": {
    "nbsphinx": "hidden"
   },
   "outputs": [
    {
     "data": {
      "image/png": "[encoded data removed]",
      "text/plain": [
       "<Figure size 432x288 with 1 Axes>"
      ]
     },
     "metadata": {
      "needs_background": "light"
     },
     "output_type": "display_data"
    }
   ],
   "source": [
    "import math as m\n",
    "import numpy as np\n",
    "import matplotlib.pyplot as plt\n",
    "import matplotlib.path as mplPath\n",
    "\n",
    "def vertexes(n=3): # return vertices of regular polygon\n",
    "    start_angle = - (n-2)*np.pi/(2*n) # fix start angle so that\n",
    "                                      # one side of the polygon will be horizontal\n",
    "    end_angle = start_angle + 2*np.pi\n",
    "    \n",
    "    angles = np.linspace(start_angle,end_angle,n+1) # linspace of angles needed\n",
    "    \n",
    "    v = [(np.cos(x),np.sin(x)) for x in angles] # polygon vertexes with repetition\n",
    "    \n",
    "    return np.array(v) # note: one vertex is repeated twice\n",
    "                        # first and last vertex are the same\n",
    "\n",
    "v=vertexes(3)\n",
    "#plt.figure(figsize=(10,10))\n",
    "plt.plot(v[:,0],v[:,1],'^r-')\n",
    "plt.axis('equal');\n",
    "plt.savefig('img1.png')"
   ]
  },
  {
   "cell_type": "markdown",
   "metadata": {},
   "source": [
    "![figure_1](img1.png \"\")"
   ]
  },
  {
   "cell_type": "markdown",
   "metadata": {},
   "source": [
    "**Ex.2** Write a Python function `pick_p0` that selects the initial point $\\mathbf{p}_0$ for the algorithm "
   ]
  },
  {
   "cell_type": "code",
   "execution_count": 40,
   "metadata": {
    "nbsphinx": "hidden"
   },
   "outputs": [
    {
     "data": {
      "image/png": "[encoded data removed]",
      "text/plain": [
       "<Figure size 432x288 with 1 Axes>"
      ]
     },
     "metadata": {
      "needs_background": "light"
     },
     "output_type": "display_data"
    }
   ],
   "source": [
    "def pick_P0(v,xl=-1,xr=1,yd=-1,yu=1):\n",
    "    # v = vertexes pf polygon (w/o repetitions)\n",
    "    # xl : left limit, xr : right limit for random choice\n",
    "    # yd : lower limit, yu : upper limit for random choice\n",
    "    \n",
    "    poly_path = mplPath.Path(v) # create path with vertexes\n",
    "    \n",
    "    not_in_poly = True # by default not in polygon\n",
    "    \n",
    "    while not_in_poly: # pick random point and check if it is in the polygon\n",
    "        x = np.random.random() * (xr-xl) + xl\n",
    "        y = np.random.random() * (yu-yd) + yd\n",
    "        not_in_poly = not poly_path.contains_point( (x,y) )\n",
    "        #print(x,y,not_in_poly)\n",
    "        \n",
    "    return (x,y)\n",
    "\n",
    "v=vertexes(3)\n",
    "p=pick_P0(v[:-1])\n",
    "#plt.figure(figsize=(10,10))\n",
    "plt.plot(v[:,0],v[:,1],'^r-')\n",
    "plt.plot(p[0],p[1],'*b')\n",
    "plt.axis('equal');\n",
    "plt.savefig('img2.png');"
   ]
  },
  {
   "cell_type": "markdown",
   "metadata": {},
   "source": [
    "![figure_2](img2.png \"\")"
   ]
  },
  {
   "cell_type": "markdown",
   "metadata": {},
   "source": [
    "**Note**: The python module `matplotlib.path` can be used to check if a point is contained inside of a polygon as follows:\n",
    "\n",
    "consider\n",
    "\n",
    "* `v=[(0,0),(0,1),(1,1),(1,0)]` vertexes of a square\n",
    "* `P=(0.5,0.5)` point inside the square\n",
    "* `Q=(1.1,1.1)` point outside the square\n",
    "* Use `Path(v)` to create a path with the given vertexes\n",
    "* Use `contains_point( (x,y) )` to check if the point is inside the path"
   ]
  },
  {
   "cell_type": "code",
   "execution_count": 36,
   "metadata": {},
   "outputs": [],
   "source": [
    "import matplotlib.path as mplPath # import module with alias\n",
    "\n",
    "v=[(0,0),(0,1),(1,1),(1,0)] # vertexes of a square\n",
    "P=(0.5,0.5) # point inside the square\n",
    "Q=(1.1,1.1) # point outside the square\n",
    "\n",
    "poly_path = mplPath.Path(v) # create path with vertexes"
   ]
  },
  {
   "cell_type": "code",
   "execution_count": 41,
   "metadata": {
    "nbsphinx": "hidden"
   },
   "outputs": [
    {
     "data": {
      "image/png": "[encoded data removed]",
      "text/plain": [
       "<Figure size 432x288 with 1 Axes>"
      ]
     },
     "metadata": {
      "needs_background": "light"
     },
     "output_type": "display_data"
    }
   ],
   "source": [
    "v=[(0,0),(0,1),(1,1),(1,0),(0,0)]\n",
    "x,y=zip(*v)\n",
    "plt.axis(\"equal\")\n",
    "plt.plot(P[0],P[1],'ok')\n",
    "plt.text(P[0]+0.1, P[1]-0.1, 'P', fontsize = 22)\n",
    "plt.plot(Q[0],Q[1],'or')\n",
    "plt.text(Q[0]+0.1, Q[1]-0.1, 'Q', fontsize = 22)\n",
    "plt.plot(x,y);\n",
    "plt.savefig('img3.png');"
   ]
  },
  {
   "cell_type": "markdown",
   "metadata": {},
   "source": [
    "![figure_3](img3.png \"\")\n",
    "\n",
    "The function `contains_point( (x,y) )` returns `True` if the point is contained in the path `poly_path` and `False` otherwise"
   ]
  },
  {
   "cell_type": "code",
   "execution_count": 14,
   "metadata": {},
   "outputs": [
    {
     "data": {
      "text/plain": [
       "True"
      ]
     },
     "execution_count": 14,
     "metadata": {},
     "output_type": "execute_result"
    }
   ],
   "source": [
    "poly_path.contains_point(P)"
   ]
  },
  {
   "cell_type": "code",
   "execution_count": 15,
   "metadata": {},
   "outputs": [
    {
     "data": {
      "text/plain": [
       "False"
      ]
     },
     "execution_count": 15,
     "metadata": {},
     "output_type": "execute_result"
    }
   ],
   "source": [
    "poly_path.contains_point(Q)"
   ]
  },
  {
   "cell_type": "markdown",
   "metadata": {},
   "source": [
    "**Ex.3** Write a Python function `pick_p1` that given $\\mathbf{p}_0$ will find the next point, $\\mathbf{p}_1$, in the algorithm "
   ]
  },
  {
   "cell_type": "code",
   "execution_count": 44,
   "metadata": {
    "nbsphinx": "hidden"
   },
   "outputs": [
    {
     "data": {
      "image/png": "[encoded data removed]",
      "text/plain": [
       "<Figure size 432x288 with 1 Axes>"
      ]
     },
     "metadata": {
      "needs_background": "light"
     },
     "output_type": "display_data"
    }
   ],
   "source": [
    "def pick_P1(v,P0,f=0.5,cond=None,ktmp=-1):\n",
    "    # v : vertexes w/o repetitions\n",
    "    # P0 : initial point selected at random\n",
    "    # f : number between 0 and 1 that determines\n",
    "    #   how much of the distance between x0 and the chosen vertex is covered\n",
    "    # cond : special condition for chosing next vertex\n",
    "    #        None : no condition\n",
    "    #        'norepeat' : the same vertex cannot be chosen twice in a row\n",
    "    # ktmp : vertex chosen last time \n",
    "        \n",
    "    k = np.random.randint(len(v)) # select a vertex at random [0,n)\n",
    "    \n",
    "    if cond == 'norepeat':\n",
    "        while k == ktmp:\n",
    "            k = np.random.randint(len(v)) # select a vertex at random [0,n)\n",
    "        ktmp=k\n",
    "        \n",
    "    \n",
    "    xv,yv = v[k,0],v[k,1] # coords of chosen vertex\n",
    "    x0,y0 = P0[0],P0[1]\n",
    "    \n",
    "    x = f * xv + (1-f) * x0\n",
    "    y = f * yv + (1-f) * y0\n",
    "        \n",
    "    return (x,y),ktmp\n",
    "    \n",
    "\n",
    "v=vertexes(3)\n",
    "p0=pick_P0(v[:-1])\n",
    "p1,ktmp=pick_P1(v[:-1],p0)\n",
    "#plt.figure(figsize=(10,10))\n",
    "plt.plot(v[:,0],v[:,1],'^r-')\n",
    "plt.plot(p0[0],p0[1],'*b')\n",
    "plt.text(p0[0]+0.1, p0[1]-0.1, 'p0', fontsize = 22)\n",
    "plt.plot(p1[0],p1[1],'*k')\n",
    "plt.text(p1[0]+0.1, p1[1]-0.1, 'p1', fontsize = 22)\n",
    "plt.axis('equal');\n",
    "plt.savefig('img4.png');"
   ]
  },
  {
   "cell_type": "markdown",
   "metadata": {},
   "source": [
    "![figure_4](img4.png \"\")\n"
   ]
  },
  {
   "cell_type": "markdown",
   "metadata": {},
   "source": [
    "<font size=\"+2\"> **Project:** </font>\n",
    "\n",
    "Explore, describe and analyze the results produced by the algorithm for different regular polygons ($n\\geq 3$), different values of $f$.\n",
    "\n",
    "**Note/Suggestion**: Some choices for the value of $n$ might give more \"interesting\" results than other values. If the result obtained does not look very \"interesting\" it might be of value to add some constrain on the way the vertex $\\mathbf{v}$ is chosen.\n",
    "\n",
    "Here is an example with 20 points for the regular triangle ($n=3$)"
   ]
  },
  {
   "cell_type": "code",
   "execution_count": 46,
   "metadata": {
    "nbsphinx": "hidden"
   },
   "outputs": [
    {
     "data": {
      "image/png": "[encoded data removed]",
      "text/plain": [
       "<Figure size 432x288 with 1 Axes>"
      ]
     },
     "metadata": {
      "needs_background": "light"
     },
     "output_type": "display_data"
    }
   ],
   "source": [
    "def sierp(v,niter=100000,f=0.5,cond=None):\n",
    "    \n",
    "    # v : vertexes w/o repetitions\n",
    "    # niter : number of iterations\n",
    "    # f : number between 0 and 1 that determines\n",
    "    #   how much of the distance between x0 and the chosen vertex is covered\n",
    "    # cond : special condition for chosing next vertex\n",
    "    #        None : no condition\n",
    "    #        'norepeat' : the same vertex cannot be chosen twice in a row\n",
    "    \n",
    "    x=np.zeros(niter) # storage for x and y coordinates of points\n",
    "    y=np.zeros(niter)\n",
    "    \n",
    "    p0=pick_P0(v) # initial point at random\n",
    "    \n",
    "    ktmp=-1 # temporary choice of vertex. needed if cond=='norepeat'\n",
    "    \n",
    "    for k in range(niter):\n",
    "        p1,ktmp=pick_P1(v,p0,f=f,cond=cond,ktmp=ktmp)\n",
    "        x[k]=p1[0]\n",
    "        y[k]=p1[1]\n",
    "        p0=p1\n",
    "    \n",
    "    P=np.column_stack([x,y])\n",
    "    \n",
    "    return P\n",
    "\n",
    "v=vertexes(3)\n",
    "P=sierp(v[:-1],niter=20)\n",
    "plt.plot(v[:,0],v[:,1],'r-')\n",
    "plt.plot(P[:,0],P[:,1],'o',markersize=3)\n",
    "plt.axis('equal');\n",
    "plt.savefig('img5.png');"
   ]
  },
  {
   "cell_type": "markdown",
   "metadata": {},
   "source": [
    "![figure_5](img5.png \"\")"
   ]
  }
 ],
 "metadata": {
  "celltoolbar": "Edit Metadata",
  "kernelspec": {
   "display_name": "Python 3",
   "language": "python",
   "name": "python3"
  },
  "language_info": {
   "codemirror_mode": {
    "name": "ipython",
    "version": 3
   },
   "file_extension": ".py",
   "mimetype": "text/x-python",
   "name": "python",
   "nbconvert_exporter": "python",
   "pygments_lexer": "ipython3",
   "version": "3.8.8"
  }
 },
 "nbformat": 4,
 "nbformat_minor": 4
}
