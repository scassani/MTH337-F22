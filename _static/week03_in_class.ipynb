{
 "cells": [
  {
   "cell_type": "markdown",
   "id": "6c2a7df5",
   "metadata": {},
   "source": [
    "### Week 3"
   ]
  },
  {
   "cell_type": "code",
   "execution_count": 1,
   "id": "56b9d65c",
   "metadata": {},
   "outputs": [],
   "source": [
    "def isprime(n):\n",
    "    '''This function check if n is prime or not. Returns True or \n",
    "    False'''\n",
    "    if n<2:  # cheking if n>=2 to avoid working with numbers\n",
    "            # that should not be included in the project\n",
    "        print(\"n must be >=2\")\n",
    "        return None\n",
    "    prime=True # boolean used to check if n prime\n",
    "    for d in range(2,n): # loop on [2,n) to check for divisors\n",
    "        if n%d==0: # if remainder is zero, n is not prime\n",
    "            prime=False\n",
    "            break\n",
    "    \n",
    "    return prime"
   ]
  },
  {
   "cell_type": "code",
   "execution_count": 5,
   "id": "15903152",
   "metadata": {},
   "outputs": [
    {
     "name": "stdout",
     "output_type": "stream",
     "text": [
      "Help on function isprime in module __main__:\n",
      "\n",
      "isprime(n)\n",
      "    This function check if n is prime or not. Returns True or \n",
      "    False\n",
      "\n"
     ]
    }
   ],
   "source": [
    "help(isprime)"
   ]
  },
  {
   "cell_type": "code",
   "execution_count": 6,
   "id": "5494b79c",
   "metadata": {},
   "outputs": [
    {
     "data": {
      "text/plain": [
       "False"
      ]
     },
     "execution_count": 6,
     "metadata": {},
     "output_type": "execute_result"
    }
   ],
   "source": [
    "isprime(9)"
   ]
  },
  {
   "cell_type": "code",
   "execution_count": 8,
   "id": "2a569672",
   "metadata": {},
   "outputs": [
    {
     "data": {
      "text/plain": [
       "True"
      ]
     },
     "execution_count": 8,
     "metadata": {},
     "output_type": "execute_result"
    }
   ],
   "source": [
    "isprime(11)"
   ]
  },
  {
   "cell_type": "markdown",
   "id": "fb1ddaf3",
   "metadata": {},
   "source": [
    "faster code: we just check numbers up to $\\sqrt{n}$"
   ]
  },
  {
   "cell_type": "code",
   "execution_count": 2,
   "id": "30db49d6",
   "metadata": {},
   "outputs": [],
   "source": [
    "def isprime2(n):\n",
    "    '''This function check if n is prime or not. Returns True or \n",
    "    False'''\n",
    "    if n<2:  # cheking if n>=2 to avoid working with numbers\n",
    "            # that should not be included in the project\n",
    "        print(\"n must be >=2\")\n",
    "        return None\n",
    "    prime=True # boolean used to check if n prime\n",
    "    for d in range(2,int(n**0.5)+1): # loop on [2,sqrt(n)] to check for divisors\n",
    "        if n%d==0: # if remainder is zero, n is not prime\n",
    "            prime=False\n",
    "            break\n",
    "    \n",
    "    return prime"
   ]
  },
  {
   "cell_type": "code",
   "execution_count": 11,
   "id": "7a485d1a",
   "metadata": {},
   "outputs": [
    {
     "data": {
      "text/plain": [
       "False"
      ]
     },
     "execution_count": 11,
     "metadata": {},
     "output_type": "execute_result"
    }
   ],
   "source": [
    "isprime2(12)"
   ]
  },
  {
   "cell_type": "code",
   "execution_count": 12,
   "id": "301fc116",
   "metadata": {},
   "outputs": [
    {
     "data": {
      "text/plain": [
       "True"
      ]
     },
     "execution_count": 12,
     "metadata": {},
     "output_type": "execute_result"
    }
   ],
   "source": [
    "isprime2(83)"
   ]
  },
  {
   "cell_type": "markdown",
   "id": "0bb01fe1",
   "metadata": {},
   "source": [
    "**Ex.** write a function `myprimes(n)`, that returns the list of prime numbers less than or equal to `n`"
   ]
  },
  {
   "cell_type": "code",
   "execution_count": 3,
   "id": "4d10ebb6",
   "metadata": {},
   "outputs": [],
   "source": [
    "def myprimes(n):\n",
    "    primelist=[]\n",
    "    for k in range(2,n+1):\n",
    "        if isprime2(k)==True:\n",
    "            primelist.append(k)\n",
    "    return primelist"
   ]
  },
  {
   "cell_type": "code",
   "execution_count": 19,
   "id": "57edc3be",
   "metadata": {},
   "outputs": [
    {
     "data": {
      "text/plain": [
       "[2]"
      ]
     },
     "execution_count": 19,
     "metadata": {},
     "output_type": "execute_result"
    }
   ],
   "source": [
    "myprimes(2)"
   ]
  },
  {
   "cell_type": "code",
   "execution_count": 21,
   "id": "23f25ec0",
   "metadata": {},
   "outputs": [
    {
     "name": "stdout",
     "output_type": "stream",
     "text": [
      "[2, 3, 5, 7, 11, 13, 17, 19, 23, 29, 31, 37, 41, 43, 47, 53, 59, 61, 67, 71, 73, 79, 83]\n"
     ]
    }
   ],
   "source": [
    "plist=myprimes(83)\n",
    "print(plist)"
   ]
  },
  {
   "cell_type": "markdown",
   "id": "1c295b0f",
   "metadata": {},
   "source": [
    "below see an example of bad output (too long)"
   ]
  },
  {
   "cell_type": "code",
   "execution_count": 23,
   "id": "7924ad49",
   "metadata": {},
   "outputs": [
    {
     "name": "stdout",
     "output_type": "stream",
     "text": [
      "[2, 3, 5, 7, 11, 13, 17, 19, 23, 29, 31, 37, 41, 43, 47, 53, 59, 61, 67, 71, 73, 79, 83, 89, 97, 101, 103, 107, 109, 113, 127, 131, 137, 139, 149, 151, 157, 163, 167, 173, 179, 181, 191, 193, 197, 199, 211, 223, 227, 229, 233, 239, 241, 251, 257, 263, 269, 271, 277, 281, 283, 293, 307, 311, 313, 317, 331, 337, 347, 349, 353, 359, 367, 373, 379, 383, 389, 397, 401, 409, 419, 421, 431, 433, 439, 443, 449, 457, 461, 463, 467, 479, 487, 491, 499, 503, 509, 521, 523, 541, 547, 557, 563, 569, 571, 577, 587, 593, 599, 601, 607, 613, 617, 619, 631, 641, 643, 647, 653, 659, 661, 673, 677, 683, 691, 701, 709, 719, 727, 733, 739, 743, 751, 757, 761, 769, 773, 787, 797, 809, 811, 821, 823, 827, 829, 839, 853, 857, 859, 863, 877, 881, 883, 887, 907, 911, 919, 929, 937, 941, 947, 953, 967, 971, 977, 983, 991, 997]\n"
     ]
    }
   ],
   "source": [
    "print(myprimes(10**3))"
   ]
  },
  {
   "cell_type": "code",
   "execution_count": null,
   "id": "64bc6a5f",
   "metadata": {},
   "outputs": [],
   "source": []
  },
  {
   "cell_type": "code",
   "execution_count": null,
   "id": "f98ffda4",
   "metadata": {},
   "outputs": [],
   "source": []
  },
  {
   "cell_type": "code",
   "execution_count": 14,
   "id": "372c2fbe",
   "metadata": {},
   "outputs": [],
   "source": [
    "def myfun(a):\n",
    "    print(a)\n",
    "    return a**2\n",
    "    print(a**3)"
   ]
  },
  {
   "cell_type": "code",
   "execution_count": 15,
   "id": "fe5f0bb0",
   "metadata": {},
   "outputs": [
    {
     "name": "stdout",
     "output_type": "stream",
     "text": [
      "2\n"
     ]
    },
    {
     "data": {
      "text/plain": [
       "4"
      ]
     },
     "execution_count": 15,
     "metadata": {},
     "output_type": "execute_result"
    }
   ],
   "source": [
    "myfun(2)"
   ]
  },
  {
   "cell_type": "code",
   "execution_count": 16,
   "id": "b53d5f8a",
   "metadata": {},
   "outputs": [
    {
     "name": "stdout",
     "output_type": "stream",
     "text": [
      "2\n"
     ]
    }
   ],
   "source": [
    "c=myfun(2)"
   ]
  },
  {
   "cell_type": "code",
   "execution_count": 17,
   "id": "cd938600",
   "metadata": {},
   "outputs": [
    {
     "data": {
      "text/plain": [
       "4"
      ]
     },
     "execution_count": 17,
     "metadata": {},
     "output_type": "execute_result"
    }
   ],
   "source": [
    "c"
   ]
  },
  {
   "cell_type": "code",
   "execution_count": 24,
   "id": "198d6147",
   "metadata": {},
   "outputs": [],
   "source": [
    "def congr_test(a,p):\n",
    "    return pow(a,p,p) == a%p\n",
    "    #return (a**p)%p == a%p"
   ]
  },
  {
   "cell_type": "markdown",
   "id": "3fa824e1",
   "metadata": {},
   "source": [
    "note `pow(a,b,c)` is the same as `(a**b)%c` but faster"
   ]
  },
  {
   "cell_type": "markdown",
   "id": "7136d380",
   "metadata": {},
   "source": [
    "### logical operators"
   ]
  },
  {
   "cell_type": "markdown",
   "id": "a22f895f",
   "metadata": {},
   "source": [
    "`and` , `or`, `not`"
   ]
  },
  {
   "cell_type": "code",
   "execution_count": 27,
   "id": "7ac1e457",
   "metadata": {},
   "outputs": [
    {
     "data": {
      "text/plain": [
       "True"
      ]
     },
     "execution_count": 27,
     "metadata": {},
     "output_type": "execute_result"
    }
   ],
   "source": [
    "(3>2) and (5<10) # True if both booleans are True"
   ]
  },
  {
   "cell_type": "code",
   "execution_count": 29,
   "id": "b848cbc4",
   "metadata": {},
   "outputs": [
    {
     "data": {
      "text/plain": [
       "True"
      ]
     },
     "execution_count": 29,
     "metadata": {},
     "output_type": "execute_result"
    }
   ],
   "source": [
    "(3>2) or (11<10) # True if at least one boolean True"
   ]
  },
  {
   "cell_type": "code",
   "execution_count": 31,
   "id": "a5597b4d",
   "metadata": {},
   "outputs": [
    {
     "data": {
      "text/plain": [
       "False"
      ]
     },
     "execution_count": 31,
     "metadata": {},
     "output_type": "execute_result"
    }
   ],
   "source": [
    "not (3>2) # True if boolean is False"
   ]
  },
  {
   "cell_type": "code",
   "execution_count": 33,
   "id": "eebc7738",
   "metadata": {},
   "outputs": [
    {
     "name": "stdout",
     "output_type": "stream",
     "text": [
      "0\n",
      "15\n",
      "30\n",
      "45\n"
     ]
    }
   ],
   "source": [
    "for k in range(50):\n",
    "    if (k%3==0) and (k%5==0):\n",
    "        print(k)"
   ]
  },
  {
   "cell_type": "code",
   "execution_count": 34,
   "id": "70545928",
   "metadata": {},
   "outputs": [
    {
     "name": "stdout",
     "output_type": "stream",
     "text": [
      "3\n",
      "6\n",
      "9\n",
      "12\n",
      "18\n",
      "21\n",
      "24\n",
      "27\n",
      "33\n",
      "36\n",
      "39\n",
      "42\n",
      "48\n"
     ]
    }
   ],
   "source": [
    "for k in range(50):\n",
    "    if (k%3==0) and (not(k%5==0)):\n",
    "        print(k)"
   ]
  },
  {
   "cell_type": "markdown",
   "id": "3c923189",
   "metadata": {},
   "source": [
    "### `while` loop"
   ]
  },
  {
   "cell_type": "code",
   "execution_count": 6,
   "id": "296b42d2",
   "metadata": {},
   "outputs": [
    {
     "name": "stdout",
     "output_type": "stream",
     "text": [
      "10\n",
      "8\n",
      "6\n",
      "4\n",
      "2\n"
     ]
    }
   ],
   "source": [
    "a=10\n",
    "\n",
    "while a>0:\n",
    "    print(a)\n",
    "    a-=2"
   ]
  },
  {
   "cell_type": "code",
   "execution_count": null,
   "id": "b21e8308",
   "metadata": {},
   "outputs": [],
   "source": []
  }
 ],
 "metadata": {
  "kernelspec": {
   "display_name": "Python 3 (ipykernel)",
   "language": "python",
   "name": "python3"
  },
  "language_info": {
   "codemirror_mode": {
    "name": "ipython",
    "version": 3
   },
   "file_extension": ".py",
   "mimetype": "text/x-python",
   "name": "python",
   "nbconvert_exporter": "python",
   "pygments_lexer": "ipython3",
   "version": "3.9.12"
  }
 },
 "nbformat": 4,
 "nbformat_minor": 5
}
