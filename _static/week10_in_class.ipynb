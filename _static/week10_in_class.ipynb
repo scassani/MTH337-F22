{
 "cells": [
  {
   "cell_type": "code",
   "execution_count": 20,
   "id": "e86fd36d",
   "metadata": {},
   "outputs": [],
   "source": [
    "import numpy as np\n",
    "import matplotlib.pyplot as plt"
   ]
  },
  {
   "cell_type": "code",
   "execution_count": 2,
   "id": "141397ac",
   "metadata": {},
   "outputs": [
    {
     "data": {
      "text/plain": [
       "array([[ 0,  1,  2],\n",
       "       [ 3,  4,  5],\n",
       "       [ 6,  7,  8],\n",
       "       [ 9, 10, 11]])"
      ]
     },
     "execution_count": 2,
     "metadata": {},
     "output_type": "execute_result"
    }
   ],
   "source": [
    "a=np.arange(12).reshape(4,3)\n",
    "a"
   ]
  },
  {
   "cell_type": "code",
   "execution_count": 6,
   "id": "5e66a9d2",
   "metadata": {},
   "outputs": [
    {
     "data": {
      "text/plain": [
       "array([[1, 2, 3]])"
      ]
     },
     "execution_count": 6,
     "metadata": {},
     "output_type": "execute_result"
    }
   ],
   "source": [
    "b=np.arange(1,4).reshape(1,3)\n",
    "b"
   ]
  },
  {
   "cell_type": "code",
   "execution_count": 7,
   "id": "3cfd45c4",
   "metadata": {},
   "outputs": [
    {
     "data": {
      "text/plain": [
       "array([[ 1,  3,  5],\n",
       "       [ 4,  6,  8],\n",
       "       [ 7,  9, 11],\n",
       "       [10, 12, 14]])"
      ]
     },
     "execution_count": 7,
     "metadata": {},
     "output_type": "execute_result"
    }
   ],
   "source": [
    "a+b"
   ]
  },
  {
   "cell_type": "code",
   "execution_count": 8,
   "id": "25bbb3ed",
   "metadata": {},
   "outputs": [
    {
     "data": {
      "text/plain": [
       "(1, 3)"
      ]
     },
     "execution_count": 8,
     "metadata": {},
     "output_type": "execute_result"
    }
   ],
   "source": [
    "b.shape"
   ]
  },
  {
   "cell_type": "code",
   "execution_count": 32,
   "id": "588061e3",
   "metadata": {},
   "outputs": [
    {
     "name": "stdout",
     "output_type": "stream",
     "text": [
      "(12, 15)\n"
     ]
    },
    {
     "data": {
      "text/plain": [
       "<matplotlib.image.AxesImage at 0x7fc9d90a2850>"
      ]
     },
     "execution_count": 32,
     "metadata": {},
     "output_type": "execute_result"
    },
    {
     "data": {
      "image/png": "[encoded data removed]",
      "text/plain": [
       "<Figure size 432x288 with 1 Axes>"
      ]
     },
     "metadata": {
      "needs_background": "light"
     },
     "output_type": "display_data"
    }
   ],
   "source": [
    "img=np.random.random((12,15))\n",
    "print(img.shape)\n",
    "r,c=img.shape\n",
    "\n",
    "n=3 # add 3 pixels left and 3 right, 3 top,3 bottom\n",
    "frame=np.zeros((r+2*n,c+2*n))\n",
    "\n",
    "# place orginal image in center of frame\n",
    "frame[n:-n,n:-n]=img.copy()\n",
    "\n",
    "plt.imshow(frame,cmap='gray')"
   ]
  },
  {
   "cell_type": "code",
   "execution_count": 33,
   "id": "05ea3a7f",
   "metadata": {},
   "outputs": [
    {
     "name": "stdout",
     "output_type": "stream",
     "text": [
      "(12, 15)\n"
     ]
    },
    {
     "data": {
      "text/plain": [
       "<matplotlib.image.AxesImage at 0x7fc9d9097670>"
      ]
     },
     "execution_count": 33,
     "metadata": {},
     "output_type": "execute_result"
    },
    {
     "data": {
      "image/png": "[encoded data removed]",
      "text/plain": [
       "<Figure size 432x288 with 1 Axes>"
      ]
     },
     "metadata": {
      "needs_background": "light"
     },
     "output_type": "display_data"
    }
   ],
   "source": [
    "img=np.random.random((12,15))\n",
    "print(img.shape)\n",
    "r,c=img.shape\n",
    "\n",
    "n=3 # add 3 pixels left and 3 right, 3 top,3 bottom\n",
    "frame=np.zeros((r+2*n,c+2*n))\n",
    "\n",
    "# place orginal image in center of frame\n",
    "frame[n:r+n,n:c+n]=img.copy()\n",
    "\n",
    "plt.imshow(frame,cmap='gray')"
   ]
  },
  {
   "cell_type": "code",
   "execution_count": 26,
   "id": "43eb56e5",
   "metadata": {},
   "outputs": [],
   "source": [
    "a=np.arange(6).reshape(2,3)"
   ]
  },
  {
   "cell_type": "code",
   "execution_count": 27,
   "id": "453c5ff7",
   "metadata": {},
   "outputs": [
    {
     "data": {
      "text/plain": [
       "array([[0, 1, 2],\n",
       "       [3, 4, 5]])"
      ]
     },
     "execution_count": 27,
     "metadata": {},
     "output_type": "execute_result"
    }
   ],
   "source": [
    "a"
   ]
  },
  {
   "cell_type": "code",
   "execution_count": 30,
   "id": "31b50906",
   "metadata": {},
   "outputs": [
    {
     "data": {
      "text/plain": [
       "array([], shape=(2, 0), dtype=int64)"
      ]
     },
     "execution_count": 30,
     "metadata": {},
     "output_type": "execute_result"
    }
   ],
   "source": [
    "a[:,-1:1]"
   ]
  },
  {
   "cell_type": "code",
   "execution_count": 31,
   "id": "b18032b7",
   "metadata": {},
   "outputs": [
    {
     "data": {
      "text/plain": [
       "array([[2],\n",
       "       [5]])"
      ]
     },
     "execution_count": 31,
     "metadata": {},
     "output_type": "execute_result"
    }
   ],
   "source": [
    "a[:,2:5]"
   ]
  },
  {
   "cell_type": "markdown",
   "id": "b771c17a",
   "metadata": {},
   "source": [
    "### File operations"
   ]
  },
  {
   "cell_type": "code",
   "execution_count": 3,
   "id": "ca6f71bf",
   "metadata": {},
   "outputs": [],
   "source": [
    "f=open('grocery.txt','w') # 'w' is for writing (creates a new file)\n",
    "f.write('bread\\n')\n",
    "f.write('pizza\\nsunny d\\n mountain dew')\n",
    "f.close()"
   ]
  },
  {
   "cell_type": "code",
   "execution_count": 4,
   "id": "2566037e",
   "metadata": {},
   "outputs": [],
   "source": [
    "f=open('grocery.txt','a') # 'a' is for append (wrinting where we left off)\n",
    "f.write('\\n milk')\n",
    "f.close()"
   ]
  },
  {
   "cell_type": "code",
   "execution_count": 6,
   "id": "a11d03bb",
   "metadata": {},
   "outputs": [],
   "source": [
    "with open('grocery.txt','a') as f:\n",
    "    f.write('\\nchicken')"
   ]
  },
  {
   "cell_type": "code",
   "execution_count": 9,
   "id": "bd0693df",
   "metadata": {},
   "outputs": [
    {
     "data": {
      "text/plain": [
       "'bread\\npizza\\nsunny d\\n mountain dew\\n milkchicken\\nchicken'"
      ]
     },
     "execution_count": 9,
     "metadata": {},
     "output_type": "execute_result"
    }
   ],
   "source": [
    "with open('grocery.txt','r') as f: # 'r' is for reading\n",
    "    s=f.read()\n",
    "    \n",
    "s"
   ]
  },
  {
   "cell_type": "code",
   "execution_count": 10,
   "id": "c514b3f4",
   "metadata": {},
   "outputs": [
    {
     "data": {
      "text/plain": [
       "'bread'"
      ]
     },
     "execution_count": 10,
     "metadata": {},
     "output_type": "execute_result"
    }
   ],
   "source": [
    "with open('grocery.txt','r') as f: # 'r' is for reading\n",
    "    s=f.read(5)\n",
    "    \n",
    "s"
   ]
  },
  {
   "cell_type": "code",
   "execution_count": 11,
   "id": "f2f5b391",
   "metadata": {},
   "outputs": [
    {
     "name": "stdout",
     "output_type": "stream",
     "text": [
      "bread\n",
      "\n",
      "piz\n"
     ]
    }
   ],
   "source": [
    "f=open('grocery.txt','r')\n",
    "print(f.read(5))\n",
    "print(f.read(4))"
   ]
  },
  {
   "cell_type": "code",
   "execution_count": 12,
   "id": "ac448ed3",
   "metadata": {},
   "outputs": [
    {
     "data": {
      "text/plain": [
       "9"
      ]
     },
     "execution_count": 12,
     "metadata": {},
     "output_type": "execute_result"
    }
   ],
   "source": [
    "f.tell() # tells you where you are in the file"
   ]
  },
  {
   "cell_type": "code",
   "execution_count": 13,
   "id": "38fccade",
   "metadata": {},
   "outputs": [
    {
     "data": {
      "text/plain": [
       "'bread\\npizza\\nsunny d\\n mountain dew\\n milkchicken\\nchicken'"
      ]
     },
     "execution_count": 13,
     "metadata": {},
     "output_type": "execute_result"
    }
   ],
   "source": [
    "f.seek(0) # puts cursor at given position\n",
    "f.read()"
   ]
  },
  {
   "cell_type": "code",
   "execution_count": 16,
   "id": "f5f6f1d0",
   "metadata": {},
   "outputs": [
    {
     "data": {
      "text/plain": [
       "['bread\\n',\n",
       " 'pizza\\n',\n",
       " 'sunny d\\n',\n",
       " ' mountain dew\\n',\n",
       " ' milkchicken\\n',\n",
       " 'chicken']"
      ]
     },
     "execution_count": 16,
     "metadata": {},
     "output_type": "execute_result"
    }
   ],
   "source": [
    "f.seek(0)\n",
    "f.readlines() # read file and break in into lines"
   ]
  },
  {
   "cell_type": "code",
   "execution_count": 17,
   "id": "8fcb78e6",
   "metadata": {},
   "outputs": [
    {
     "data": {
      "text/plain": [
       "'bread\\n'"
      ]
     },
     "execution_count": 17,
     "metadata": {},
     "output_type": "execute_result"
    }
   ],
   "source": [
    "f.seek(0)\n",
    "f.readline()"
   ]
  },
  {
   "cell_type": "code",
   "execution_count": 18,
   "id": "3fa82455",
   "metadata": {},
   "outputs": [
    {
     "data": {
      "text/plain": [
       "'pizza\\n'"
      ]
     },
     "execution_count": 18,
     "metadata": {},
     "output_type": "execute_result"
    }
   ],
   "source": [
    "f.readline()"
   ]
  },
  {
   "cell_type": "code",
   "execution_count": 19,
   "id": "bd8db4f9",
   "metadata": {},
   "outputs": [],
   "source": [
    "f.close()"
   ]
  },
  {
   "cell_type": "code",
   "execution_count": 20,
   "id": "6cb51d15",
   "metadata": {},
   "outputs": [
    {
     "name": "stdout",
     "output_type": "stream",
     "text": [
      "bread\n",
      "\n",
      "pizza\n",
      "\n",
      "sunny d\n",
      "\n",
      " mountain dew\n",
      "\n",
      " milkchicken\n",
      "\n",
      "chicken\n"
     ]
    }
   ],
   "source": [
    "with open('grocery.txt','r') as f: # 'r' is for reading\n",
    "    for line in f:\n",
    "        print(line)\n",
    "    \n"
   ]
  },
  {
   "cell_type": "code",
   "execution_count": null,
   "id": "3fca79b1",
   "metadata": {},
   "outputs": [],
   "source": []
  }
 ],
 "metadata": {
  "kernelspec": {
   "display_name": "Python 3",
   "language": "python",
   "name": "python3"
  },
  "language_info": {
   "codemirror_mode": {
    "name": "ipython",
    "version": 3
   },
   "file_extension": ".py",
   "mimetype": "text/x-python",
   "name": "python",
   "nbconvert_exporter": "python",
   "pygments_lexer": "ipython3",
   "version": "3.8.8"
  }
 },
 "nbformat": 4,
 "nbformat_minor": 5
}
