{
 "cells": [
  {
   "cell_type": "code",
   "execution_count": 1,
   "id": "0da1e96f",
   "metadata": {},
   "outputs": [
    {
     "name": "stdout",
     "output_type": "stream",
     "text": [
      "grocery.txt          \u001b[0m\u001b[01;35mt.png\u001b[0m                  week07_in_class.ipynb\r\n",
      "\u001b[01;32mgulliver.txt\u001b[0m*        week01_in_class.ipynb  week08_in_class.ipynb\r\n",
      "\u001b[01;35mimg.jpeg\u001b[0m             week02_in_class.ipynb  week09_in_class.ipynb\r\n",
      "\u001b[01;35mmajin_buu.jpg\u001b[0m        week03_in_class.ipynb  week10_in_class.ipynb\r\n",
      "\u001b[01;35mmotorbike.png\u001b[0m        week04_in_class.ipynb  week11_in_class.ipynb\r\n",
      "NYSE_2016_03_25.csv  week05_in_class.ipynb  week12_in_class.ipynb\r\n",
      "\u001b[01;34mp7\u001b[0m/                  week06_in_class.ipynb  week13_in_class.ipynb\r\n"
     ]
    }
   ],
   "source": [
    "ls\n"
   ]
  },
  {
   "cell_type": "code",
   "execution_count": 2,
   "id": "434692cd",
   "metadata": {},
   "outputs": [],
   "source": [
    "import pandas as pd\n",
    "import numpy as np\n",
    "import matplotlib.pyplot as plt"
   ]
  },
  {
   "cell_type": "code",
   "execution_count": 16,
   "id": "fd5b66f5",
   "metadata": {},
   "outputs": [],
   "source": [
    "df_cd = pd.read_csv(\"capital_distances.txt\",delimiter=\" \",skiprows=12, header=None,\n",
    "                names=[\"c1\",\"c2\",\"dist\",\"c1name\",\"c2name\"] # capital1code,cap2code,...\n",
    "                )\n",
    "\n",
    "df_cd=df_cd.fillna(0)"
   ]
  },
  {
   "cell_type": "code",
   "execution_count": 9,
   "id": "d160dbab",
   "metadata": {},
   "outputs": [
    {
     "data": {
      "text/html": [
       "<div>\n",
       "<style scoped>\n",
       "    .dataframe tbody tr th:only-of-type {\n",
       "        vertical-align: middle;\n",
       "    }\n",
       "\n",
       "    .dataframe tbody tr th {\n",
       "        vertical-align: top;\n",
       "    }\n",
       "\n",
       "    .dataframe thead th {\n",
       "        text-align: right;\n",
       "    }\n",
       "</style>\n",
       "<table border=\"1\" class=\"dataframe\">\n",
       "  <thead>\n",
       "    <tr style=\"text-align: right;\">\n",
       "      <th></th>\n",
       "      <th>c1</th>\n",
       "      <th>c2</th>\n",
       "      <th>dist</th>\n",
       "      <th>c1name</th>\n",
       "      <th>c2name</th>\n",
       "    </tr>\n",
       "  </thead>\n",
       "  <tbody>\n",
       "    <tr>\n",
       "      <th>0</th>\n",
       "      <td>1</td>\n",
       "      <td>2</td>\n",
       "      <td>6405.558</td>\n",
       "      <td>USA</td>\n",
       "      <td>Germany</td>\n",
       "    </tr>\n",
       "    <tr>\n",
       "      <th>1</th>\n",
       "      <td>1</td>\n",
       "      <td>3</td>\n",
       "      <td>10910.268</td>\n",
       "      <td>USA</td>\n",
       "      <td>Japan</td>\n",
       "    </tr>\n",
       "    <tr>\n",
       "      <th>2</th>\n",
       "      <td>1</td>\n",
       "      <td>4</td>\n",
       "      <td>5904.034</td>\n",
       "      <td>USA</td>\n",
       "      <td>United.Kingdom</td>\n",
       "    </tr>\n",
       "    <tr>\n",
       "      <th>3</th>\n",
       "      <td>1</td>\n",
       "      <td>5</td>\n",
       "      <td>6168.601</td>\n",
       "      <td>USA</td>\n",
       "      <td>France</td>\n",
       "    </tr>\n",
       "    <tr>\n",
       "      <th>4</th>\n",
       "      <td>1</td>\n",
       "      <td>6</td>\n",
       "      <td>7222.464</td>\n",
       "      <td>USA</td>\n",
       "      <td>Italy</td>\n",
       "    </tr>\n",
       "    <tr>\n",
       "      <th>...</th>\n",
       "      <td>...</td>\n",
       "      <td>...</td>\n",
       "      <td>...</td>\n",
       "      <td>...</td>\n",
       "      <td>...</td>\n",
       "    </tr>\n",
       "    <tr>\n",
       "      <th>9311</th>\n",
       "      <td>157</td>\n",
       "      <td>159</td>\n",
       "      <td>16187.149</td>\n",
       "      <td>Chad</td>\n",
       "      <td>Solomon.Islands</td>\n",
       "    </tr>\n",
       "    <tr>\n",
       "      <th>9312</th>\n",
       "      <td>157</td>\n",
       "      <td>167</td>\n",
       "      <td>7897.615</td>\n",
       "      <td>Chad</td>\n",
       "      <td>Bhutan</td>\n",
       "    </tr>\n",
       "    <tr>\n",
       "      <th>9313</th>\n",
       "      <td>158</td>\n",
       "      <td>159</td>\n",
       "      <td>15731.287</td>\n",
       "      <td>Central.African.Repu</td>\n",
       "      <td>Solomon.Islands</td>\n",
       "    </tr>\n",
       "    <tr>\n",
       "      <th>9314</th>\n",
       "      <td>158</td>\n",
       "      <td>167</td>\n",
       "      <td>7932.815</td>\n",
       "      <td>Central.African.Repu</td>\n",
       "      <td>Bhutan</td>\n",
       "    </tr>\n",
       "    <tr>\n",
       "      <th>9315</th>\n",
       "      <td>159</td>\n",
       "      <td>167</td>\n",
       "      <td>8601.426</td>\n",
       "      <td>Solomon.Islands</td>\n",
       "      <td>Bhutan</td>\n",
       "    </tr>\n",
       "  </tbody>\n",
       "</table>\n",
       "<p>9316 rows × 5 columns</p>\n",
       "</div>"
      ],
      "text/plain": [
       "       c1   c2       dist                c1name           c2name\n",
       "0       1    2   6405.558                   USA          Germany\n",
       "1       1    3  10910.268                   USA            Japan\n",
       "2       1    4   5904.034                   USA   United.Kingdom\n",
       "3       1    5   6168.601                   USA           France\n",
       "4       1    6   7222.464                   USA            Italy\n",
       "...   ...  ...        ...                   ...              ...\n",
       "9311  157  159  16187.149                  Chad  Solomon.Islands\n",
       "9312  157  167   7897.615                  Chad           Bhutan\n",
       "9313  158  159  15731.287  Central.African.Repu  Solomon.Islands\n",
       "9314  158  167   7932.815  Central.African.Repu           Bhutan\n",
       "9315  159  167   8601.426       Solomon.Islands           Bhutan\n",
       "\n",
       "[9316 rows x 5 columns]"
      ]
     },
     "execution_count": 9,
     "metadata": {},
     "output_type": "execute_result"
    }
   ],
   "source": [
    "df_cd"
   ]
  },
  {
   "cell_type": "code",
   "execution_count": 11,
   "id": "616ef101",
   "metadata": {},
   "outputs": [
    {
     "data": {
      "text/plain": [
       "167"
      ]
     },
     "execution_count": 11,
     "metadata": {},
     "output_type": "execute_result"
    }
   ],
   "source": [
    "np.max(df_cd[\"c2\"])"
   ]
  },
  {
   "cell_type": "code",
   "execution_count": 14,
   "id": "1eb1ebb2",
   "metadata": {},
   "outputs": [
    {
     "data": {
      "text/plain": [
       "array([ 6405.558, 10910.268,  5904.034, ..., 15731.287,  7932.815,\n",
       "        8601.426])"
      ]
     },
     "execution_count": 14,
     "metadata": {},
     "output_type": "execute_result"
    }
   ],
   "source": [
    "df_cd[\"dist\"].values # to get the values froma column"
   ]
  },
  {
   "cell_type": "code",
   "execution_count": 30,
   "id": "84cc41b4",
   "metadata": {},
   "outputs": [
    {
     "data": {
      "image/png": "[encoded data removed]",
      "text/plain": [
       "<Figure size 432x288 with 1 Axes>"
      ]
     },
     "metadata": {
      "needs_background": "light"
     },
     "output_type": "display_data"
    }
   ],
   "source": [
    "x=['it','big fish','bttf']\n",
    "c=[3,3,6]\n",
    "\n",
    "plt.bar(x,c,color='r',width=0.8,tick_label=[\"IT\",\"Big Fish\",\"BTTF\"])\n",
    "plt.xticks(rotation=45);"
   ]
  },
  {
   "cell_type": "code",
   "execution_count": 18,
   "id": "8ae028da",
   "metadata": {},
   "outputs": [
    {
     "data": {
      "text/plain": [
       "[<matplotlib.lines.Line2D at 0x7fc3d878b700>]"
      ]
     },
     "execution_count": 18,
     "metadata": {},
     "output_type": "execute_result"
    },
    {
     "data": {
      "image/png": "[encoded data removed]",
      "text/plain": [
       "<Figure size 432x288 with 1 Axes>"
      ]
     },
     "metadata": {
      "needs_background": "light"
     },
     "output_type": "display_data"
    }
   ],
   "source": [
    "plt.plot(c)"
   ]
  },
  {
   "cell_type": "code",
   "execution_count": null,
   "id": "1ee66823",
   "metadata": {},
   "outputs": [],
   "source": []
  }
 ],
 "metadata": {
  "kernelspec": {
   "display_name": "Python 3",
   "language": "python",
   "name": "python3"
  },
  "language_info": {
   "codemirror_mode": {
    "name": "ipython",
    "version": 3
   },
   "file_extension": ".py",
   "mimetype": "text/x-python",
   "name": "python",
   "nbconvert_exporter": "python",
   "pygments_lexer": "ipython3",
   "version": "3.8.8"
  }
 },
 "nbformat": 4,
 "nbformat_minor": 5
}
