{
 "cells": [
  {
   "cell_type": "markdown",
   "id": "8281ab96",
   "metadata": {},
   "source": [
    "### Week 4"
   ]
  },
  {
   "cell_type": "markdown",
   "id": "893c2628",
   "metadata": {},
   "source": [
    "### more on lists"
   ]
  },
  {
   "cell_type": "code",
   "execution_count": 1,
   "id": "521931c3",
   "metadata": {},
   "outputs": [],
   "source": [
    "pizzas=[\"cheese\",\"pezzeroni\",\"buffalo chicken\",\"white\"]"
   ]
  },
  {
   "cell_type": "code",
   "execution_count": 3,
   "id": "c832191f",
   "metadata": {},
   "outputs": [
    {
     "data": {
      "text/plain": [
       "'buffalo chicken'"
      ]
     },
     "execution_count": 3,
     "metadata": {},
     "output_type": "execute_result"
    }
   ],
   "source": [
    "pizzas[2] # indexes start at 0"
   ]
  },
  {
   "cell_type": "code",
   "execution_count": 4,
   "id": "fd820d81",
   "metadata": {},
   "outputs": [
    {
     "data": {
      "text/plain": [
       "'white'"
      ]
     },
     "execution_count": 4,
     "metadata": {},
     "output_type": "execute_result"
    }
   ],
   "source": [
    "pizzas[-1]"
   ]
  },
  {
   "cell_type": "code",
   "execution_count": 5,
   "id": "e0abd64c",
   "metadata": {},
   "outputs": [
    {
     "data": {
      "text/plain": [
       "'buffalo chicken'"
      ]
     },
     "execution_count": 5,
     "metadata": {},
     "output_type": "execute_result"
    }
   ],
   "source": [
    "pizzas[-2]"
   ]
  },
  {
   "cell_type": "code",
   "execution_count": 7,
   "id": "523a7017",
   "metadata": {},
   "outputs": [],
   "source": [
    "pizzas[2]=\"supreme\""
   ]
  },
  {
   "cell_type": "code",
   "execution_count": 8,
   "id": "5bb8f38e",
   "metadata": {},
   "outputs": [
    {
     "data": {
      "text/plain": [
       "['cheese', 'pezzeroni', 'supreme', 'white']"
      ]
     },
     "execution_count": 8,
     "metadata": {},
     "output_type": "execute_result"
    }
   ],
   "source": [
    "pizzas"
   ]
  },
  {
   "cell_type": "markdown",
   "id": "b2849ebd",
   "metadata": {},
   "source": [
    "`insert` adds an element in a given position"
   ]
  },
  {
   "cell_type": "code",
   "execution_count": 9,
   "id": "17957c97",
   "metadata": {},
   "outputs": [],
   "source": [
    "pizzas.insert(1,\"buffalo chicken\") "
   ]
  },
  {
   "cell_type": "code",
   "execution_count": 10,
   "id": "104bf240",
   "metadata": {},
   "outputs": [
    {
     "data": {
      "text/plain": [
       "['cheese', 'buffalo chicken', 'pezzeroni', 'supreme', 'white']"
      ]
     },
     "execution_count": 10,
     "metadata": {},
     "output_type": "execute_result"
    }
   ],
   "source": [
    "pizzas"
   ]
  },
  {
   "cell_type": "code",
   "execution_count": 11,
   "id": "8bb93ff3",
   "metadata": {},
   "outputs": [
    {
     "data": {
      "text/plain": [
       "'supreme'"
      ]
     },
     "execution_count": 11,
     "metadata": {},
     "output_type": "execute_result"
    }
   ],
   "source": [
    "pizzas.pop(3) # removes an element"
   ]
  },
  {
   "cell_type": "code",
   "execution_count": 12,
   "id": "a3e1c831",
   "metadata": {},
   "outputs": [
    {
     "data": {
      "text/plain": [
       "['cheese', 'buffalo chicken', 'pezzeroni', 'white']"
      ]
     },
     "execution_count": 12,
     "metadata": {},
     "output_type": "execute_result"
    }
   ],
   "source": [
    "pizzas"
   ]
  },
  {
   "cell_type": "markdown",
   "id": "cda342fc",
   "metadata": {},
   "source": [
    "nested lists"
   ]
  },
  {
   "cell_type": "code",
   "execution_count": 13,
   "id": "7417069f",
   "metadata": {},
   "outputs": [
    {
     "data": {
      "text/plain": [
       "[[1, 2, 3], ['cheese', 6]]"
      ]
     },
     "execution_count": 13,
     "metadata": {},
     "output_type": "execute_result"
    }
   ],
   "source": [
    "mylist=[ [1,2,3], ['cheese',6] ]\n",
    "mylist"
   ]
  },
  {
   "cell_type": "code",
   "execution_count": 14,
   "id": "f5603ecf",
   "metadata": {},
   "outputs": [
    {
     "data": {
      "text/plain": [
       "2"
      ]
     },
     "execution_count": 14,
     "metadata": {},
     "output_type": "execute_result"
    }
   ],
   "source": [
    "len(mylist)"
   ]
  },
  {
   "cell_type": "code",
   "execution_count": 15,
   "id": "584f6f7d",
   "metadata": {},
   "outputs": [
    {
     "data": {
      "text/plain": [
       "[1, 2, 3]"
      ]
     },
     "execution_count": 15,
     "metadata": {},
     "output_type": "execute_result"
    }
   ],
   "source": [
    "mylist[0]"
   ]
  },
  {
   "cell_type": "code",
   "execution_count": 16,
   "id": "558cd06d",
   "metadata": {},
   "outputs": [
    {
     "data": {
      "text/plain": [
       "3"
      ]
     },
     "execution_count": 16,
     "metadata": {},
     "output_type": "execute_result"
    }
   ],
   "source": [
    "mylist[0][2]"
   ]
  },
  {
   "cell_type": "markdown",
   "id": "30c0a7f0",
   "metadata": {},
   "source": [
    "slicing if lists"
   ]
  },
  {
   "cell_type": "code",
   "execution_count": 17,
   "id": "13260b42",
   "metadata": {},
   "outputs": [
    {
     "data": {
      "text/plain": [
       "['cheese', 'buffalo chicken', 'pezzeroni', 'white']"
      ]
     },
     "execution_count": 17,
     "metadata": {},
     "output_type": "execute_result"
    }
   ],
   "source": [
    "pizzas"
   ]
  },
  {
   "cell_type": "code",
   "execution_count": 20,
   "id": "6f0ffcc2",
   "metadata": {},
   "outputs": [
    {
     "data": {
      "text/plain": [
       "['cheese', 'buffalo chicken']"
      ]
     },
     "execution_count": 20,
     "metadata": {},
     "output_type": "execute_result"
    }
   ],
   "source": [
    "pizzas[0:2] # slicing the first 2 elements"
   ]
  },
  {
   "cell_type": "code",
   "execution_count": 21,
   "id": "0cfd8d7a",
   "metadata": {},
   "outputs": [
    {
     "data": {
      "text/plain": [
       "['pezzeroni']"
      ]
     },
     "execution_count": 21,
     "metadata": {},
     "output_type": "execute_result"
    }
   ],
   "source": [
    "pizzas[2:-1]"
   ]
  },
  {
   "cell_type": "code",
   "execution_count": 22,
   "id": "cc9cd53d",
   "metadata": {},
   "outputs": [
    {
     "data": {
      "text/plain": [
       "['pezzeroni', 'white']"
      ]
     },
     "execution_count": 22,
     "metadata": {},
     "output_type": "execute_result"
    }
   ],
   "source": [
    "pizzas[2:]"
   ]
  },
  {
   "cell_type": "code",
   "execution_count": 23,
   "id": "ee68e903",
   "metadata": {},
   "outputs": [
    {
     "data": {
      "text/plain": [
       "['cheese', 'buffalo chicken', 'pezzeroni']"
      ]
     },
     "execution_count": 23,
     "metadata": {},
     "output_type": "execute_result"
    }
   ],
   "source": [
    "pizzas[:3]"
   ]
  },
  {
   "cell_type": "code",
   "execution_count": 26,
   "id": "5ae2ccdc",
   "metadata": {},
   "outputs": [
    {
     "name": "stdout",
     "output_type": "stream",
     "text": [
      "[1, 2, 3, 4, 5, 6, 7, 8, 9, 10, 11, 12, 13, 14, 15, 16, 17, 18, 19, 20, 21, 22, 23, 24, 25, 26, 27, 28, 29, 30, 31, 32, 33, 34, 35, 36, 37, 38, 39, 40, 41, 42, 43, 44, 45, 46, 47, 48, 49, 50, 51, 52, 53, 54, 55, 56, 57, 58, 59, 60, 61, 62, 63, 64, 65, 66, 67, 68, 69, 70, 71, 72, 73, 74, 75, 76, 77, 78, 79, 80, 81, 82, 83, 84, 85, 86, 87, 88, 89, 90, 91, 92, 93, 94, 95, 96, 97, 98, 99, 100]\n"
     ]
    }
   ],
   "source": [
    "mylist2=list(range(1,101))\n",
    "print(mylist2)"
   ]
  },
  {
   "cell_type": "code",
   "execution_count": 28,
   "id": "4b9f708f",
   "metadata": {},
   "outputs": [
    {
     "name": "stdout",
     "output_type": "stream",
     "text": [
      "[5, 8, 11, 14, 17, 20, 23, 26, 29, 32, 35, 38, 41, 44, 47, 50, 53, 56, 59, 62, 65, 68, 71, 74, 77, 80, 83, 86]\n"
     ]
    }
   ],
   "source": [
    "print(mylist2[4:87:3])"
   ]
  },
  {
   "cell_type": "code",
   "execution_count": 29,
   "id": "dc51b4d6",
   "metadata": {},
   "outputs": [
    {
     "data": {
      "text/plain": [
       "28"
      ]
     },
     "execution_count": 29,
     "metadata": {},
     "output_type": "execute_result"
    }
   ],
   "source": [
    "len(mylist2[4:87:3])"
   ]
  },
  {
   "cell_type": "code",
   "execution_count": 31,
   "id": "e3873361",
   "metadata": {},
   "outputs": [
    {
     "name": "stdout",
     "output_type": "stream",
     "text": [
      "[1, 4, 7, 10, 13, 16, 19, 22, 25, 28, 31, 34, 37, 40, 43, 46, 49, 52, 55, 58, 61, 64, 67, 70, 73, 76, 79, 82, 85, 88, 91, 94, 97, 100]\n"
     ]
    }
   ],
   "source": [
    "print(mylist2[::3])"
   ]
  },
  {
   "cell_type": "code",
   "execution_count": 32,
   "id": "4c7a1452",
   "metadata": {},
   "outputs": [
    {
     "name": "stdout",
     "output_type": "stream",
     "text": [
      "[5, 8, 11, 14, 17, 20, 23, 26, 29, 32, 35, 38, 41, 44, 47, 50, 53, 56, 59, 62, 65, 68, 71, 74, 77, 80, 83, 86, 89, 92, 95, 98]\n"
     ]
    }
   ],
   "source": [
    "print(mylist2[4::3])"
   ]
  },
  {
   "cell_type": "code",
   "execution_count": 33,
   "id": "a991bb3e",
   "metadata": {},
   "outputs": [
    {
     "name": "stdout",
     "output_type": "stream",
     "text": [
      "[100, 99, 98, 97, 96, 95, 94, 93, 92, 91, 90, 89, 88, 87, 86, 85, 84, 83, 82, 81, 80, 79, 78, 77, 76, 75, 74, 73, 72, 71, 70, 69, 68, 67, 66, 65, 64, 63, 62, 61, 60, 59, 58, 57, 56, 55, 54, 53, 52, 51, 50, 49, 48, 47, 46, 45, 44, 43, 42, 41, 40, 39, 38, 37, 36, 35, 34, 33, 32, 31, 30, 29, 28, 27, 26, 25, 24, 23, 22, 21, 20, 19, 18, 17, 16, 15, 14, 13, 12, 11, 10, 9, 8, 7, 6, 5, 4, 3, 2, 1]\n"
     ]
    }
   ],
   "source": [
    "print(mylist2[::-1])"
   ]
  },
  {
   "cell_type": "code",
   "execution_count": 34,
   "id": "bc04b2ee",
   "metadata": {},
   "outputs": [
    {
     "data": {
      "text/plain": [
       "True"
      ]
     },
     "execution_count": 34,
     "metadata": {},
     "output_type": "execute_result"
    }
   ],
   "source": [
    "5 in mylist2"
   ]
  },
  {
   "cell_type": "code",
   "execution_count": 35,
   "id": "6494540c",
   "metadata": {},
   "outputs": [
    {
     "data": {
      "text/plain": [
       "False"
      ]
     },
     "execution_count": 35,
     "metadata": {},
     "output_type": "execute_result"
    }
   ],
   "source": [
    "101 in mylist2"
   ]
  },
  {
   "cell_type": "markdown",
   "id": "776a07f8",
   "metadata": {},
   "source": [
    "Mutable objects (lists, arrays,...)|"
   ]
  },
  {
   "cell_type": "code",
   "execution_count": 36,
   "id": "73376b4f",
   "metadata": {},
   "outputs": [
    {
     "name": "stdout",
     "output_type": "stream",
     "text": [
      "[100, 2, 3, 4] [100, 2, 3, 4]\n"
     ]
    }
   ],
   "source": [
    "a=[1,2,3,4]\n",
    "b=a\n",
    "b[0]=100\n",
    "print(a,b)"
   ]
  },
  {
   "cell_type": "code",
   "execution_count": 37,
   "id": "9b618616",
   "metadata": {},
   "outputs": [
    {
     "name": "stdout",
     "output_type": "stream",
     "text": [
      "[1, 2, 3, 4] [100, 2, 3, 4]\n"
     ]
    }
   ],
   "source": [
    "a=[1,2,3,4]\n",
    "b=a.copy() # b is a copy of a # you can also use b=a[:]\n",
    "b[0]=100\n",
    "print(a,b)"
   ]
  },
  {
   "cell_type": "markdown",
   "id": "183732f6",
   "metadata": {},
   "source": [
    "Non-mutable (numbers, tuples,...)"
   ]
  },
  {
   "cell_type": "code",
   "execution_count": 38,
   "id": "e88906ed",
   "metadata": {},
   "outputs": [
    {
     "name": "stdout",
     "output_type": "stream",
     "text": [
      "3 5\n"
     ]
    }
   ],
   "source": [
    "a=3\n",
    "b=a\n",
    "b+=2\n",
    "print(a,b)"
   ]
  },
  {
   "cell_type": "code",
   "execution_count": 39,
   "id": "be6daa07",
   "metadata": {},
   "outputs": [
    {
     "name": "stdout",
     "output_type": "stream",
     "text": [
      "[1, 2, 3, 4] [100, 2, 3, 4]\n"
     ]
    }
   ],
   "source": [
    "a=[1,2,3,4]\n",
    "b=a[:] # b is a copy of a # you can also use b=a[:]\n",
    "b[0]=100\n",
    "print(a,b)"
   ]
  },
  {
   "cell_type": "markdown",
   "id": "8f55ccaa",
   "metadata": {},
   "source": [
    "strings are non-mutable"
   ]
  },
  {
   "cell_type": "code",
   "execution_count": 40,
   "id": "1922dc8a",
   "metadata": {},
   "outputs": [],
   "source": [
    "s='suny buffalo'"
   ]
  },
  {
   "cell_type": "code",
   "execution_count": 41,
   "id": "6d47b239",
   "metadata": {},
   "outputs": [
    {
     "data": {
      "text/plain": [
       "'y'"
      ]
     },
     "execution_count": 41,
     "metadata": {},
     "output_type": "execute_result"
    }
   ],
   "source": [
    "s[3]"
   ]
  },
  {
   "cell_type": "code",
   "execution_count": 42,
   "id": "b5ed47df",
   "metadata": {},
   "outputs": [
    {
     "ename": "TypeError",
     "evalue": "'str' object does not support item assignment",
     "output_type": "error",
     "traceback": [
      "\u001b[0;31m---------------------------------------------------------------------------\u001b[0m",
      "\u001b[0;31mTypeError\u001b[0m                                 Traceback (most recent call last)",
      "Input \u001b[0;32mIn [42]\u001b[0m, in \u001b[0;36m<cell line: 1>\u001b[0;34m()\u001b[0m\n\u001b[0;32m----> 1\u001b[0m s[\u001b[38;5;241m3\u001b[39m]\u001b[38;5;241m=\u001b[39m\u001b[38;5;124m'\u001b[39m\u001b[38;5;124mi\u001b[39m\u001b[38;5;124m'\u001b[39m\n",
      "\u001b[0;31mTypeError\u001b[0m: 'str' object does not support item assignment"
     ]
    }
   ],
   "source": [
    "s[3]='i'"
   ]
  },
  {
   "cell_type": "code",
   "execution_count": 43,
   "id": "d931d5c0",
   "metadata": {},
   "outputs": [],
   "source": [
    "mystring=\"force\"\n",
    "def a2(mystring):\n",
    "    mystring_new=mystring[0]+\"a\"+mystring[2:]\n",
    "    return mystring_new"
   ]
  },
  {
   "cell_type": "code",
   "execution_count": 44,
   "id": "47cc97e3",
   "metadata": {},
   "outputs": [
    {
     "data": {
      "text/plain": [
       "'farce'"
      ]
     },
     "execution_count": 44,
     "metadata": {},
     "output_type": "execute_result"
    }
   ],
   "source": [
    "a2(\"force\")"
   ]
  },
  {
   "cell_type": "code",
   "execution_count": 45,
   "id": "626c8105",
   "metadata": {},
   "outputs": [
    {
     "data": {
      "text/plain": [
       "'ea'"
      ]
     },
     "execution_count": 45,
     "metadata": {},
     "output_type": "execute_result"
    }
   ],
   "source": [
    "a2(\"e\")"
   ]
  },
  {
   "cell_type": "code",
   "execution_count": 46,
   "id": "b87d273a",
   "metadata": {},
   "outputs": [
    {
     "ename": "IndexError",
     "evalue": "string index out of range",
     "output_type": "error",
     "traceback": [
      "\u001b[0;31m---------------------------------------------------------------------------\u001b[0m",
      "\u001b[0;31mIndexError\u001b[0m                                Traceback (most recent call last)",
      "Input \u001b[0;32mIn [46]\u001b[0m, in \u001b[0;36m<cell line: 2>\u001b[0;34m()\u001b[0m\n\u001b[1;32m      1\u001b[0m mystring\u001b[38;5;241m=\u001b[39m\u001b[38;5;124m\"\u001b[39m\u001b[38;5;124mhello\u001b[39m\u001b[38;5;124m\"\u001b[39m\n\u001b[0;32m----> 2\u001b[0m \u001b[43mmystring\u001b[49m\u001b[43m[\u001b[49m\u001b[38;5;241;43m5\u001b[39;49m\u001b[43m]\u001b[49m\n",
      "\u001b[0;31mIndexError\u001b[0m: string index out of range"
     ]
    }
   ],
   "source": [
    "mystring=\"hello\"\n",
    "mystring[5]"
   ]
  },
  {
   "cell_type": "markdown",
   "id": "bb44574b",
   "metadata": {},
   "source": [
    "### positional, keyword and default arguments"
   ]
  },
  {
   "cell_type": "code",
   "execution_count": 47,
   "id": "9d2e4f59",
   "metadata": {},
   "outputs": [],
   "source": [
    "from math import pi"
   ]
  },
  {
   "cell_type": "code",
   "execution_count": 48,
   "id": "2d680928",
   "metadata": {},
   "outputs": [],
   "source": [
    "def cyl_vol(r,h):\n",
    "    '''r is the cylinder radius, h is the cylinder height'''\n",
    "    return pi*(r**2)*h\n"
   ]
  },
  {
   "cell_type": "code",
   "execution_count": 52,
   "id": "7a008715",
   "metadata": {},
   "outputs": [
    {
     "data": {
      "text/plain": [
       "1.0"
      ]
     },
     "execution_count": 52,
     "metadata": {},
     "output_type": "execute_result"
    }
   ],
   "source": [
    "cyl_vol(1,1/pi) # by position"
   ]
  },
  {
   "cell_type": "code",
   "execution_count": 51,
   "id": "800b7731",
   "metadata": {},
   "outputs": [
    {
     "name": "stdout",
     "output_type": "stream",
     "text": [
      "Help on function cyl_vol in module __main__:\n",
      "\n",
      "cyl_vol(r, h)\n",
      "    r is the cylinder radius, h is the cylinder height\n",
      "\n"
     ]
    }
   ],
   "source": [
    "help(cyl_vol)"
   ]
  },
  {
   "cell_type": "code",
   "execution_count": 54,
   "id": "95075aa7",
   "metadata": {},
   "outputs": [
    {
     "data": {
      "text/plain": [
       "4.0"
      ]
     },
     "execution_count": 54,
     "metadata": {},
     "output_type": "execute_result"
    }
   ],
   "source": [
    "cyl_vol(r=2,h=1/pi) # by keyword"
   ]
  },
  {
   "cell_type": "code",
   "execution_count": 56,
   "id": "0aed0e90",
   "metadata": {},
   "outputs": [],
   "source": [
    "def cyl_vol(r,h=1/pi): # h is 1/pi by default\n",
    "    return pi*(r**2)*h"
   ]
  },
  {
   "cell_type": "code",
   "execution_count": 57,
   "id": "62a0bbf4",
   "metadata": {},
   "outputs": [
    {
     "data": {
      "text/plain": [
       "16.0"
      ]
     },
     "execution_count": 57,
     "metadata": {},
     "output_type": "execute_result"
    }
   ],
   "source": [
    "cyl_vol(4)"
   ]
  },
  {
   "cell_type": "code",
   "execution_count": 58,
   "id": "26bc8875",
   "metadata": {},
   "outputs": [
    {
     "data": {
      "text/plain": [
       "32.0"
      ]
     },
     "execution_count": 58,
     "metadata": {},
     "output_type": "execute_result"
    }
   ],
   "source": [
    "cyl_vol(4,2/pi)"
   ]
  },
  {
   "cell_type": "code",
   "execution_count": 60,
   "id": "268016c4",
   "metadata": {},
   "outputs": [
    {
     "data": {
      "text/plain": [
       "18.0"
      ]
     },
     "execution_count": 60,
     "metadata": {},
     "output_type": "execute_result"
    }
   ],
   "source": [
    "cyl_vol(h=2/pi,r=3)"
   ]
  },
  {
   "cell_type": "markdown",
   "id": "613e5dbb",
   "metadata": {},
   "source": [
    "### Plotting with `matplotlib`"
   ]
  },
  {
   "cell_type": "code",
   "execution_count": 3,
   "id": "ee0e3c3d",
   "metadata": {},
   "outputs": [],
   "source": [
    "import matplotlib.pyplot as plt"
   ]
  },
  {
   "cell_type": "code",
   "execution_count": 63,
   "id": "d11c246d",
   "metadata": {},
   "outputs": [
    {
     "data": {
      "image/png": "[encoded data removed]",
      "text/plain": [
       "<Figure size 432x288 with 1 Axes>"
      ]
     },
     "metadata": {
      "needs_background": "light"
     },
     "output_type": "display_data"
    }
   ],
   "source": [
    "x=[1,2,3,4,5]\n",
    "y=[4,5,6,7,8]\n",
    "\n",
    "plt.plot(x,y)\n",
    "plt.show()"
   ]
  },
  {
   "cell_type": "code",
   "execution_count": 72,
   "id": "60022374",
   "metadata": {},
   "outputs": [
    {
     "data": {
      "image/png": "[encoded data removed]",
      "text/plain": [
       "<Figure size 432x288 with 1 Axes>"
      ]
     },
     "metadata": {
      "needs_background": "light"
     },
     "output_type": "display_data"
    }
   ],
   "source": [
    "x=[1,2,3,4,5]\n",
    "y=[4,5,6,7,8]\n",
    "z=[0,0,2,3,4]\n",
    "\n",
    "plt.plot(x,z,\"b--s\")\n",
    "plt.plot(x,y,'g-^')\n",
    "plt.legend([\"z\",\"y\"]);"
   ]
  },
  {
   "cell_type": "code",
   "execution_count": 75,
   "id": "3af6065d",
   "metadata": {},
   "outputs": [
    {
     "data": {
      "image/png": "[encoded data removed]",
      "text/plain": [
       "<Figure size 432x288 with 1 Axes>"
      ]
     },
     "metadata": {
      "needs_background": "light"
     },
     "output_type": "display_data"
    }
   ],
   "source": [
    "x=list(range(1000))\n",
    "y=list(range(3,1003))\n",
    "z=list(range(1005,2005))\n",
    "\n",
    "plt.plot(x,z,\"b--v\")\n",
    "plt.plot(x,y,'g-o')\n",
    "plt.legend([\"z\",\"y\"]);"
   ]
  },
  {
   "cell_type": "code",
   "execution_count": 7,
   "id": "b59ba3ca",
   "metadata": {},
   "outputs": [
    {
     "data": {
      "image/png": "[encoded data removed]",
      "text/plain": [
       "<Figure size 432x288 with 1 Axes>"
      ]
     },
     "metadata": {
      "needs_background": "light"
     },
     "output_type": "display_data"
    }
   ],
   "source": [
    "x=list(range(1000))\n",
    "y=list(range(3,1003))\n",
    "z=list(range(1005,2005))\n",
    "\n",
    "plt.plot(x,z,\"b--\",linewidth=5,label='z')\n",
    "plt.plot(x,y,'g-',label='y')\n",
    "plt.legend();"
   ]
  },
  {
   "cell_type": "code",
   "execution_count": 12,
   "id": "46fa58c5",
   "metadata": {},
   "outputs": [
    {
     "data": {
      "image/png": "[encoded data removed]",
      "text/plain": [
       "<Figure size 432x288 with 1 Axes>"
      ]
     },
     "metadata": {
      "needs_background": "light"
     },
     "output_type": "display_data"
    }
   ],
   "source": [
    "x=list(range(-5,6))\n",
    "y=[]\n",
    "\n",
    "for k in x:\n",
    "    y.append(k**2 -1)\n",
    "    \n",
    "plt.plot(x,y,'r.',linewidth=3,markersize=8);"
   ]
  },
  {
   "cell_type": "markdown",
   "id": "8332537f",
   "metadata": {},
   "source": [
    "### list comprehension"
   ]
  },
  {
   "cell_type": "code",
   "execution_count": 13,
   "id": "2f921659",
   "metadata": {},
   "outputs": [
    {
     "data": {
      "image/png": "[encoded data removed]",
      "text/plain": [
       "<Figure size 432x288 with 1 Axes>"
      ]
     },
     "metadata": {
      "needs_background": "light"
     },
     "output_type": "display_data"
    }
   ],
   "source": [
    "x=list(range(-5,6))\n",
    "z=[k**2 -1 for k in x]\n",
    "\n",
    "plt.plot(x,y,'r.',linewidth=3,markersize=8);\n",
    "plt.plot(x,z,'b',linewidth=2);"
   ]
  },
  {
   "cell_type": "markdown",
   "id": "11a5603d",
   "metadata": {},
   "source": [
    "Create a list of the numbers in [-99,99] that are even"
   ]
  },
  {
   "cell_type": "code",
   "execution_count": 14,
   "id": "00420d08",
   "metadata": {},
   "outputs": [
    {
     "name": "stdout",
     "output_type": "stream",
     "text": [
      "[-98, -96, -94, -92, -90, -88, -86, -84, -82, -80, -78, -76, -74, -72, -70, -68, -66, -64, -62, -60, -58, -56, -54, -52, -50, -48, -46, -44, -42, -40, -38, -36, -34, -32, -30, -28, -26, -24, -22, -20, -18, -16, -14, -12, -10, -8, -6, -4, -2, 0, 2, 4, 6, 8, 10, 12, 14, 16, 18, 20, 22, 24, 26, 28, 30, 32, 34, 36, 38, 40, 42, 44, 46, 48, 50, 52, 54, 56, 58, 60, 62, 64, 66, 68, 70, 72, 74, 76, 78, 80, 82, 84, 86, 88, 90, 92, 94, 96, 98]\n"
     ]
    }
   ],
   "source": [
    "even=[]\n",
    "\n",
    "for k in range(-99,100):\n",
    "    if k%2==0:\n",
    "        even.append(k)\n",
    "\n",
    "print(even)"
   ]
  },
  {
   "cell_type": "code",
   "execution_count": 16,
   "id": "61927721",
   "metadata": {},
   "outputs": [
    {
     "name": "stdout",
     "output_type": "stream",
     "text": [
      "[-98, -96, -94, -92, -90, -88, -86, -84, -82, -80, -78, -76, -74, -72, -70, -68, -66, -64, -62, -60, -58, -56, -54, -52, -50, -48, -46, -44, -42, -40, -38, -36, -34, -32, -30, -28, -26, -24, -22, -20, -18, -16, -14, -12, -10, -8, -6, -4, -2, 0, 2, 4, 6, 8, 10, 12, 14, 16, 18, 20, 22, 24, 26, 28, 30, 32, 34, 36, 38, 40, 42, 44, 46, 48, 50, 52, 54, 56, 58, 60, 62, 64, 66, 68, 70, 72, 74, 76, 78, 80, 82, 84, 86, 88, 90, 92, 94, 96, 98]\n"
     ]
    }
   ],
   "source": [
    "even=[k for k in range(-99,100) if k%2==0]\n",
    "print(even)"
   ]
  },
  {
   "cell_type": "code",
   "execution_count": 17,
   "id": "ddeb5d0c",
   "metadata": {},
   "outputs": [
    {
     "name": "stdout",
     "output_type": "stream",
     "text": [
      "['hi! how are you doing simone?', 'hello! how are you doing simone?', 'hi! how are you doing lucia?', 'hello! how are you doing lucia?', 'hi! how are you doing mia?', 'hello! how are you doing mia?']\n"
     ]
    }
   ],
   "source": [
    "names=[\"simone\",\"lucia\",\"mia\"]\n",
    "greetings=[\"hi\",\"hello\"]\n",
    "\n",
    "mylist=[]\n",
    "\n",
    "for n in names:\n",
    "    for g in greetings:\n",
    "        mylist.append(f\"{g}! how are you doing {n}?\")\n",
    "        \n",
    "print(mylist)"
   ]
  },
  {
   "cell_type": "code",
   "execution_count": 18,
   "id": "dd9f932d",
   "metadata": {},
   "outputs": [
    {
     "name": "stdout",
     "output_type": "stream",
     "text": [
      "['hi! how are you doing simone?', 'hello! how are you doing simone?', 'hi! how are you doing lucia?', 'hello! how are you doing lucia?', 'hi! how are you doing mia?', 'hello! how are you doing mia?']\n"
     ]
    }
   ],
   "source": [
    "mylist=[f\"{g}! how are you doing {n}?\" for n in names for g in greetings]\n",
    "print(mylist)"
   ]
  },
  {
   "cell_type": "markdown",
   "id": "b1344ce5",
   "metadata": {},
   "source": [
    "**Ex.** plot the circle with radius 2 and center (0,0)"
   ]
  },
  {
   "cell_type": "code",
   "execution_count": 24,
   "id": "435802d2",
   "metadata": {},
   "outputs": [],
   "source": [
    "from math import pi,sin,cos"
   ]
  },
  {
   "cell_type": "code",
   "execution_count": 27,
   "id": "afc72272",
   "metadata": {},
   "outputs": [
    {
     "name": "stdout",
     "output_type": "stream",
     "text": [
      "0.006283185307179587\n",
      "0.0 6.276902121872407\n",
      "1000\n"
     ]
    }
   ],
   "source": [
    "a=range(0,1000)\n",
    "a=[k*(2*pi/len(a))  for k in a]\n",
    "print(a[1]-a[0]) # step size\n",
    "print(a[0],a[-1]) # first, last elements\n",
    "print(len(a)) # how many pts"
   ]
  },
  {
   "cell_type": "code",
   "execution_count": 28,
   "id": "e13e8e6d",
   "metadata": {},
   "outputs": [
    {
     "name": "stdout",
     "output_type": "stream",
     "text": [
      "0.0062831853071796395\n",
      "-3.141592653589793 3.135309468282614\n",
      "1000\n"
     ]
    }
   ],
   "source": [
    "a=range(0,1000)\n",
    "a=[k*(2*pi/len(a))-pi  for k in a]\n",
    "print(a[1]-a[0]) # step size\n",
    "print(a[0],a[-1]) # first, last elements\n",
    "print(len(a)) # how many pts"
   ]
  },
  {
   "cell_type": "code",
   "execution_count": 41,
   "id": "fac4b80e",
   "metadata": {},
   "outputs": [
    {
     "data": {
      "image/png": "[encoded data removed]",
      "text/plain": [
       "<Figure size 432x432 with 1 Axes>"
      ]
     },
     "metadata": {
      "needs_background": "light"
     },
     "output_type": "display_data"
    }
   ],
   "source": [
    "x=[2*cos(k) for k in a]\n",
    "y=[2*sin(k) for k in a]\n",
    "\n",
    "plt.figure(figsize=(6,6))\n",
    "plt.plot(x,y);\n",
    "plt.plot(0,0,'ro',markersize=8)\n",
    "plt.axis(\"equal\");\n",
    "plt.yticks(range(-2,3));\n",
    "plt.ylabel(\"y\")\n",
    "plt.xlabel(\"x\")\n",
    "plt.grid(\"on\")\n",
    "plt.title(\"Circle of radius 2\",fontsize=20);"
   ]
  },
  {
   "cell_type": "code",
   "execution_count": 45,
   "id": "31b948c7",
   "metadata": {},
   "outputs": [
    {
     "data": {
      "image/png": "[encoded data removed]",
      "text/plain": [
       "<Figure size 432x432 with 1 Axes>"
      ]
     },
     "metadata": {
      "needs_background": "light"
     },
     "output_type": "display_data"
    }
   ],
   "source": [
    "plt.figure(figsize=(6,6))\n",
    "plt.plot(x,y);\n",
    "plt.plot(0,0,'ro',markersize=8)\n",
    "plt.ylabel(\"y\")\n",
    "plt.xlabel(\"x\")\n",
    "plt.ylim([0,2])\n",
    "plt.title(\"Circle of radius 2\",fontsize=20);"
   ]
  },
  {
   "cell_type": "code",
   "execution_count": 46,
   "id": "6c59f513",
   "metadata": {},
   "outputs": [
    {
     "data": {
      "text/plain": [
       "0"
      ]
     },
     "execution_count": 46,
     "metadata": {},
     "output_type": "execute_result"
    }
   ],
   "source": [
    "2%1"
   ]
  },
  {
   "cell_type": "code",
   "execution_count": 47,
   "id": "304da140",
   "metadata": {},
   "outputs": [
    {
     "data": {
      "text/plain": [
       "0.3999999999999999"
      ]
     },
     "execution_count": 47,
     "metadata": {},
     "output_type": "execute_result"
    }
   ],
   "source": [
    "2.4%1"
   ]
  },
  {
   "cell_type": "code",
   "execution_count": 48,
   "id": "4b2db2f9",
   "metadata": {},
   "outputs": [
    {
     "ename": "TypeError",
     "evalue": "cannot unpack non-iterable int object",
     "output_type": "error",
     "traceback": [
      "\u001b[0;31m---------------------------------------------------------------------------\u001b[0m",
      "\u001b[0;31mTypeError\u001b[0m                                 Traceback (most recent call last)",
      "Input \u001b[0;32mIn [48]\u001b[0m, in \u001b[0;36m<cell line: 1>\u001b[0;34m()\u001b[0m\n\u001b[0;32m----> 1\u001b[0m \u001b[38;5;28;01mfor\u001b[39;00m a,b \u001b[38;5;129;01min\u001b[39;00m \u001b[38;5;28mrange\u001b[39m(\u001b[38;5;241m10\u001b[39m):\n\u001b[1;32m      2\u001b[0m     \u001b[38;5;28mprint\u001b[39m(a,b)\n",
      "\u001b[0;31mTypeError\u001b[0m: cannot unpack non-iterable int object"
     ]
    }
   ],
   "source": [
    "for a,b in range(10):\n",
    "    print(a,b)"
   ]
  },
  {
   "cell_type": "code",
   "execution_count": null,
   "id": "3b9dcb0c",
   "metadata": {},
   "outputs": [],
   "source": []
  }
 ],
 "metadata": {
  "kernelspec": {
   "display_name": "Python 3 (ipykernel)",
   "language": "python",
   "name": "python3"
  },
  "language_info": {
   "codemirror_mode": {
    "name": "ipython",
    "version": 3
   },
   "file_extension": ".py",
   "mimetype": "text/x-python",
   "name": "python",
   "nbconvert_exporter": "python",
   "pygments_lexer": "ipython3",
   "version": "3.9.12"
  }
 },
 "nbformat": 4,
 "nbformat_minor": 5
}
