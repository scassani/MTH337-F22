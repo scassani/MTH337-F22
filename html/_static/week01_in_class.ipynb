{
 "cells": [
  {
   "cell_type": "markdown",
   "id": "99b78365",
   "metadata": {},
   "source": [
    "## Week 1"
   ]
  },
  {
   "cell_type": "markdown",
   "id": "8393369e",
   "metadata": {},
   "source": [
    "`shift+enter` will run the cell"
   ]
  },
  {
   "cell_type": "markdown",
   "id": "951311fe",
   "metadata": {},
   "source": [
    "`esc` to make the cell border blue, `M` key will change the cell to markdown (text cell)"
   ]
  },
  {
   "cell_type": "markdown",
   "id": "6d9c7e5f",
   "metadata": {},
   "source": [
    "`esc` to make the cell border blue, `Y` key will change the cell to code (code cell)"
   ]
  },
  {
   "cell_type": "markdown",
   "id": "fad7bba2",
   "metadata": {},
   "source": [
    "### Monday 8/29/22\n",
    "\n",
    "* create a new file/folder \n",
    "* rename a file\n",
    "* `pwd`. How to locate files"
   ]
  },
  {
   "cell_type": "code",
   "execution_count": 2,
   "id": "f90b221d",
   "metadata": {},
   "outputs": [
    {
     "data": {
      "text/plain": [
       "'/home/simone/Dropbox/buffalo_teaching/0_MTH337_fall22/in_class'"
      ]
     },
     "execution_count": 2,
     "metadata": {},
     "output_type": "execute_result"
    }
   ],
   "source": [
    "pwd"
   ]
  },
  {
   "cell_type": "markdown",
   "id": "b9a83e32",
   "metadata": {},
   "source": [
    "* `D` `D` will delete current cells\n",
    "* `A` will add cell above\n",
    "* `B` will add a cell below\n",
    "    * lists, bullets\n",
    "        1. enumerate\n",
    "        2. \n",
    "* __bold__ or **bold**\n",
    "* _italics_\n",
    "* `code`\n",
    "* links `[text](url)` [class website](https://scassani.github.io/MTH337-F22/)\n",
    "* tables\n",
    "\n",
    "|1st col|2nd col2|3rd col|\n",
    "|:---|:--:|---:|\n",
    "|left|center|right|\n",
    "\n",
    "* images\n",
    "* command palette `ctrl+shift+p`"
   ]
  },
  {
   "cell_type": "markdown",
   "id": "0a4ec165",
   "metadata": {},
   "source": [
    "### Python Arithmetic"
   ]
  },
  {
   "cell_type": "code",
   "execution_count": 4,
   "id": "eda823f6",
   "metadata": {},
   "outputs": [
    {
     "data": {
      "text/plain": [
       "7"
      ]
     },
     "execution_count": 4,
     "metadata": {},
     "output_type": "execute_result"
    }
   ],
   "source": [
    "2+5"
   ]
  },
  {
   "cell_type": "code",
   "execution_count": 5,
   "id": "4dec2a9d",
   "metadata": {},
   "outputs": [
    {
     "data": {
      "text/plain": [
       "12"
      ]
     },
     "execution_count": 5,
     "metadata": {},
     "output_type": "execute_result"
    }
   ],
   "source": [
    "2*6"
   ]
  },
  {
   "cell_type": "code",
   "execution_count": 6,
   "id": "2933215b",
   "metadata": {},
   "outputs": [
    {
     "data": {
      "text/plain": [
       "2.25"
      ]
     },
     "execution_count": 6,
     "metadata": {},
     "output_type": "execute_result"
    }
   ],
   "source": [
    "9/4"
   ]
  },
  {
   "cell_type": "code",
   "execution_count": 7,
   "id": "1ba6698a",
   "metadata": {},
   "outputs": [
    {
     "data": {
      "text/plain": [
       "2"
      ]
     },
     "execution_count": 7,
     "metadata": {},
     "output_type": "execute_result"
    }
   ],
   "source": [
    "9//4 # integer division or floor division"
   ]
  },
  {
   "cell_type": "code",
   "execution_count": 12,
   "id": "0bbec32b",
   "metadata": {},
   "outputs": [
    {
     "data": {
      "text/plain": [
       "2.75"
      ]
     },
     "execution_count": 12,
     "metadata": {},
     "output_type": "execute_result"
    }
   ],
   "source": [
    "11/4"
   ]
  },
  {
   "cell_type": "code",
   "execution_count": 9,
   "id": "7026f508",
   "metadata": {},
   "outputs": [
    {
     "data": {
      "text/plain": [
       "2"
      ]
     },
     "execution_count": 9,
     "metadata": {},
     "output_type": "execute_result"
    }
   ],
   "source": [
    "11//4"
   ]
  },
  {
   "cell_type": "code",
   "execution_count": 11,
   "id": "7af5c71f",
   "metadata": {},
   "outputs": [
    {
     "data": {
      "text/plain": [
       "-3"
      ]
     },
     "execution_count": 11,
     "metadata": {},
     "output_type": "execute_result"
    }
   ],
   "source": [
    "-11//4"
   ]
  },
  {
   "cell_type": "code",
   "execution_count": 13,
   "id": "2704ec42",
   "metadata": {},
   "outputs": [
    {
     "data": {
      "text/plain": [
       "3"
      ]
     },
     "execution_count": 13,
     "metadata": {},
     "output_type": "execute_result"
    }
   ],
   "source": [
    "11%4 # modulus or reminder of integer division"
   ]
  },
  {
   "cell_type": "code",
   "execution_count": 14,
   "id": "16ee79be",
   "metadata": {},
   "outputs": [
    {
     "data": {
      "text/plain": [
       "16"
      ]
     },
     "execution_count": 14,
     "metadata": {},
     "output_type": "execute_result"
    }
   ],
   "source": [
    "2**4 # exponential"
   ]
  },
  {
   "cell_type": "code",
   "execution_count": 20,
   "id": "dc6c04e0",
   "metadata": {},
   "outputs": [
    {
     "data": {
      "text/plain": [
       "717897987691852588770249"
      ]
     },
     "execution_count": 20,
     "metadata": {},
     "output_type": "execute_result"
    }
   ],
   "source": [
    "3**50"
   ]
  },
  {
   "cell_type": "code",
   "execution_count": 21,
   "id": "2627fbab",
   "metadata": {},
   "outputs": [
    {
     "data": {
      "text/plain": [
       "7.178979876918526e+23"
      ]
     },
     "execution_count": 21,
     "metadata": {},
     "output_type": "execute_result"
    }
   ],
   "source": [
    "3.0**50"
   ]
  },
  {
   "cell_type": "markdown",
   "id": "46be3319",
   "metadata": {},
   "source": [
    "### Float vs integers"
   ]
  },
  {
   "cell_type": "markdown",
   "id": "bb3f1260",
   "metadata": {},
   "source": [
    "* integers: no decimal point\n",
    "* float : number with decimal point\n",
    "* arithmetic operations are done exactly with integers\n",
    "* arithmetic operations are approximated with floats\n",
    "* integers are virtually unbounded, floats are represented with finite precision"
   ]
  },
  {
   "cell_type": "code",
   "execution_count": 22,
   "id": "7a882f60",
   "metadata": {},
   "outputs": [
    {
     "data": {
      "text/plain": [
       "1322070819480806636890455259752144365965422032752148167664920368226828597346704899540778313850608061963909777696872582355950954582100618911865342725257953674027620225198320803878014774228964841274390400117588618041128947815623094438061566173054086674490506178125480344405547054397038895817465368254916136220830268563778582290228416398307887896918556404084898937609373242171846359938695516765018940588109060426089671438864102814350385648747165832010614366132173102768902855220001"
      ]
     },
     "execution_count": 22,
     "metadata": {},
     "output_type": "execute_result"
    }
   ],
   "source": [
    "9**500"
   ]
  },
  {
   "cell_type": "code",
   "execution_count": 23,
   "id": "f81a5693",
   "metadata": {},
   "outputs": [
    {
     "ename": "OverflowError",
     "evalue": "(34, 'Numerical result out of range')",
     "output_type": "error",
     "traceback": [
      "\u001b[0;31m---------------------------------------------------------------------------\u001b[0m",
      "\u001b[0;31mOverflowError\u001b[0m                             Traceback (most recent call last)",
      "\u001b[0;32m<ipython-input-23-ce1f8918b6a7>\u001b[0m in \u001b[0;36m<module>\u001b[0;34m\u001b[0m\n\u001b[0;32m----> 1\u001b[0;31m \u001b[0;36m9.0\u001b[0m\u001b[0;34m**\u001b[0m\u001b[0;36m500\u001b[0m\u001b[0;34m\u001b[0m\u001b[0;34m\u001b[0m\u001b[0m\n\u001b[0m",
      "\u001b[0;31mOverflowError\u001b[0m: (34, 'Numerical result out of range')"
     ]
    }
   ],
   "source": [
    "9.0**500"
   ]
  },
  {
   "cell_type": "code",
   "execution_count": 32,
   "id": "399fb9a1",
   "metadata": {},
   "outputs": [],
   "source": [
    "x=9.2 # variable assignment"
   ]
  },
  {
   "cell_type": "code",
   "execution_count": 29,
   "id": "da5a5161",
   "metadata": {},
   "outputs": [
    {
     "data": {
      "text/plain": [
       "9.2"
      ]
     },
     "execution_count": 29,
     "metadata": {},
     "output_type": "execute_result"
    }
   ],
   "source": [
    "x"
   ]
  },
  {
   "cell_type": "code",
   "execution_count": 30,
   "id": "dd3a19dc",
   "metadata": {},
   "outputs": [
    {
     "data": {
      "text/plain": [
       "0.1999999999999993"
      ]
     },
     "execution_count": 30,
     "metadata": {},
     "output_type": "execute_result"
    }
   ],
   "source": [
    "x = x-9\n",
    "x "
   ]
  },
  {
   "cell_type": "code",
   "execution_count": 31,
   "id": "bcdbdeba",
   "metadata": {},
   "outputs": [
    {
     "data": {
      "text/plain": [
       "-7.216449660063518e-16"
      ]
     },
     "execution_count": 31,
     "metadata": {},
     "output_type": "execute_result"
    }
   ],
   "source": [
    "x = x-0.2\n",
    "x"
   ]
  },
  {
   "cell_type": "code",
   "execution_count": 33,
   "id": "8fa94dc2",
   "metadata": {},
   "outputs": [
    {
     "data": {
      "text/plain": [
       "34.0"
      ]
     },
     "execution_count": 33,
     "metadata": {},
     "output_type": "execute_result"
    }
   ],
   "source": [
    "float(34) # change to float"
   ]
  },
  {
   "cell_type": "code",
   "execution_count": 34,
   "id": "58687a14",
   "metadata": {},
   "outputs": [
    {
     "data": {
      "text/plain": [
       "22"
      ]
     },
     "execution_count": 34,
     "metadata": {},
     "output_type": "execute_result"
    }
   ],
   "source": [
    "int(22.6) # change to int"
   ]
  },
  {
   "cell_type": "code",
   "execution_count": 35,
   "id": "9570a319",
   "metadata": {},
   "outputs": [
    {
     "data": {
      "text/plain": [
       "-22"
      ]
     },
     "execution_count": 35,
     "metadata": {},
     "output_type": "execute_result"
    }
   ],
   "source": [
    "int(-22.6)"
   ]
  },
  {
   "cell_type": "code",
   "execution_count": 36,
   "id": "90cb1335",
   "metadata": {},
   "outputs": [
    {
     "data": {
      "text/plain": [
       "22"
      ]
     },
     "execution_count": 36,
     "metadata": {},
     "output_type": "execute_result"
    }
   ],
   "source": [
    "int(22.99999999999)"
   ]
  },
  {
   "cell_type": "code",
   "execution_count": 39,
   "id": "83bbbcfb",
   "metadata": {},
   "outputs": [
    {
     "data": {
      "text/plain": [
       "23"
      ]
     },
     "execution_count": 39,
     "metadata": {},
     "output_type": "execute_result"
    }
   ],
   "source": [
    "round(22.6) # rounding function"
   ]
  },
  {
   "cell_type": "code",
   "execution_count": 38,
   "id": "c06600a2",
   "metadata": {},
   "outputs": [
    {
     "data": {
      "text/plain": [
       "22"
      ]
     },
     "execution_count": 38,
     "metadata": {},
     "output_type": "execute_result"
    }
   ],
   "source": [
    "round(22.5)"
   ]
  },
  {
   "cell_type": "markdown",
   "id": "dc88c277",
   "metadata": {},
   "source": [
    "### Variable assignment "
   ]
  },
  {
   "cell_type": "code",
   "execution_count": 1,
   "id": "fb46921a",
   "metadata": {},
   "outputs": [],
   "source": [
    "x=9.2"
   ]
  },
  {
   "cell_type": "code",
   "execution_count": 2,
   "id": "59773e3a",
   "metadata": {},
   "outputs": [
    {
     "data": {
      "text/plain": [
       "9.2"
      ]
     },
     "execution_count": 2,
     "metadata": {},
     "output_type": "execute_result"
    }
   ],
   "source": [
    "x"
   ]
  },
  {
   "cell_type": "code",
   "execution_count": 4,
   "id": "dc06b095",
   "metadata": {},
   "outputs": [],
   "source": [
    "y=6"
   ]
  },
  {
   "cell_type": "code",
   "execution_count": 5,
   "id": "39288a32",
   "metadata": {},
   "outputs": [
    {
     "data": {
      "text/plain": [
       "15.2"
      ]
     },
     "execution_count": 5,
     "metadata": {},
     "output_type": "execute_result"
    }
   ],
   "source": [
    "x+y"
   ]
  },
  {
   "cell_type": "code",
   "execution_count": 6,
   "id": "684a9077",
   "metadata": {},
   "outputs": [
    {
     "data": {
      "text/plain": [
       "606355.0013439998"
      ]
     },
     "execution_count": 6,
     "metadata": {},
     "output_type": "execute_result"
    }
   ],
   "source": [
    "x**y"
   ]
  },
  {
   "cell_type": "code",
   "execution_count": 7,
   "id": "4b1a20e5",
   "metadata": {},
   "outputs": [],
   "source": [
    "x=5"
   ]
  },
  {
   "cell_type": "code",
   "execution_count": 8,
   "id": "d2b27c43",
   "metadata": {},
   "outputs": [
    {
     "data": {
      "text/plain": [
       "5"
      ]
     },
     "execution_count": 8,
     "metadata": {},
     "output_type": "execute_result"
    }
   ],
   "source": [
    "x"
   ]
  },
  {
   "cell_type": "code",
   "execution_count": 9,
   "id": "4595bcaa",
   "metadata": {},
   "outputs": [],
   "source": [
    "x_2=23"
   ]
  },
  {
   "cell_type": "code",
   "execution_count": 10,
   "id": "42fe4eb0",
   "metadata": {},
   "outputs": [
    {
     "data": {
      "text/plain": [
       "23"
      ]
     },
     "execution_count": 10,
     "metadata": {},
     "output_type": "execute_result"
    }
   ],
   "source": [
    "x_2"
   ]
  },
  {
   "cell_type": "code",
   "execution_count": 11,
   "id": "b8e230ec",
   "metadata": {},
   "outputs": [],
   "source": [
    "a,b,c=2,3,4"
   ]
  },
  {
   "cell_type": "code",
   "execution_count": 12,
   "id": "2e57b008",
   "metadata": {},
   "outputs": [
    {
     "name": "stdout",
     "output_type": "stream",
     "text": [
      "2 3 4\n"
     ]
    }
   ],
   "source": [
    "print(a,b,c)"
   ]
  },
  {
   "cell_type": "code",
   "execution_count": 13,
   "id": "af614358",
   "metadata": {},
   "outputs": [
    {
     "name": "stdout",
     "output_type": "stream",
     "text": [
      "4\n"
     ]
    }
   ],
   "source": [
    "print(c)"
   ]
  },
  {
   "cell_type": "code",
   "execution_count": 18,
   "id": "2e03e3f3",
   "metadata": {},
   "outputs": [
    {
     "data": {
      "text/plain": [
       "2.9"
      ]
     },
     "execution_count": 18,
     "metadata": {},
     "output_type": "execute_result"
    }
   ],
   "source": [
    "x=3.4\n",
    "x\n",
    "y=2.9\n",
    "y"
   ]
  },
  {
   "cell_type": "markdown",
   "id": "6f574349",
   "metadata": {},
   "source": [
    "how to modify variables"
   ]
  },
  {
   "cell_type": "code",
   "execution_count": 15,
   "id": "2054fc8a",
   "metadata": {},
   "outputs": [
    {
     "name": "stdout",
     "output_type": "stream",
     "text": [
      "6.3\n"
     ]
    }
   ],
   "source": [
    "z=x+y\n",
    "print(z)"
   ]
  },
  {
   "cell_type": "code",
   "execution_count": 19,
   "id": "a12a7196",
   "metadata": {},
   "outputs": [
    {
     "data": {
      "text/plain": [
       "5.4"
      ]
     },
     "execution_count": 19,
     "metadata": {},
     "output_type": "execute_result"
    }
   ],
   "source": [
    "x=x+2\n",
    "x"
   ]
  },
  {
   "cell_type": "code",
   "execution_count": 20,
   "id": "50dfc76c",
   "metadata": {},
   "outputs": [
    {
     "data": {
      "text/plain": [
       "7.4"
      ]
     },
     "execution_count": 20,
     "metadata": {},
     "output_type": "execute_result"
    }
   ],
   "source": [
    "x+=2\n",
    "x"
   ]
  },
  {
   "cell_type": "markdown",
   "id": "ccf65bb3",
   "metadata": {},
   "source": [
    "works with `-=`,`*=`,..."
   ]
  },
  {
   "cell_type": "markdown",
   "id": "21a27b33",
   "metadata": {},
   "source": [
    "### Strings"
   ]
  },
  {
   "cell_type": "code",
   "execution_count": 21,
   "id": "0a583887",
   "metadata": {},
   "outputs": [
    {
     "data": {
      "text/plain": [
       "'Welcome to MTH337'"
      ]
     },
     "execution_count": 21,
     "metadata": {},
     "output_type": "execute_result"
    }
   ],
   "source": [
    "mystr='Welcome to MTH337'\n",
    "mystr"
   ]
  },
  {
   "cell_type": "code",
   "execution_count": 22,
   "id": "09fbfeb7",
   "metadata": {},
   "outputs": [
    {
     "data": {
      "text/plain": [
       "'Welcome to MTH337'"
      ]
     },
     "execution_count": 22,
     "metadata": {},
     "output_type": "execute_result"
    }
   ],
   "source": [
    "mystr=\"Welcome to MTH337\"\n",
    "mystr"
   ]
  },
  {
   "cell_type": "code",
   "execution_count": 23,
   "id": "c73ad422",
   "metadata": {},
   "outputs": [
    {
     "name": "stdout",
     "output_type": "stream",
     "text": [
      "Welcome to MTH337\n"
     ]
    }
   ],
   "source": [
    "print(mystr)"
   ]
  },
  {
   "cell_type": "code",
   "execution_count": 24,
   "id": "7e1b6344",
   "metadata": {},
   "outputs": [
    {
     "data": {
      "text/plain": [
       "'Welcome to MTH337Welcome to MTH337'"
      ]
     },
     "execution_count": 24,
     "metadata": {},
     "output_type": "execute_result"
    }
   ],
   "source": [
    "mystr*2"
   ]
  },
  {
   "cell_type": "code",
   "execution_count": 25,
   "id": "8c3aaf8c",
   "metadata": {},
   "outputs": [],
   "source": [
    "mystr2=' I hope you have a good semester'"
   ]
  },
  {
   "cell_type": "code",
   "execution_count": 26,
   "id": "24009d9e",
   "metadata": {},
   "outputs": [
    {
     "data": {
      "text/plain": [
       "'Welcome to MTH337 I hope you have a good semester'"
      ]
     },
     "execution_count": 26,
     "metadata": {},
     "output_type": "execute_result"
    }
   ],
   "source": [
    "mystr+mystr2"
   ]
  },
  {
   "cell_type": "code",
   "execution_count": 27,
   "id": "5e87e1fe",
   "metadata": {},
   "outputs": [
    {
     "data": {
      "text/plain": [
       "'This is a very long string\\non more than one line.\\nWow is this long'"
      ]
     },
     "execution_count": 27,
     "metadata": {},
     "output_type": "execute_result"
    }
   ],
   "source": [
    "s=\"\"\"This is a very long string\n",
    "on more than one line.\n",
    "Wow is this long\"\"\"\n",
    "s"
   ]
  },
  {
   "cell_type": "code",
   "execution_count": 28,
   "id": "60abfa07",
   "metadata": {},
   "outputs": [
    {
     "name": "stdout",
     "output_type": "stream",
     "text": [
      "This is a very long string\n",
      "on more than one line.\n",
      "Wow is this long\n"
     ]
    }
   ],
   "source": [
    "print(s)"
   ]
  },
  {
   "cell_type": "code",
   "execution_count": 29,
   "id": "053b402d",
   "metadata": {},
   "outputs": [
    {
     "ename": "TypeError",
     "evalue": "can only concatenate str (not \"int\") to str",
     "output_type": "error",
     "traceback": [
      "\u001b[0;31m---------------------------------------------------------------------------\u001b[0m",
      "\u001b[0;31mTypeError\u001b[0m                                 Traceback (most recent call last)",
      "Input \u001b[0;32mIn [29]\u001b[0m, in \u001b[0;36m<cell line: 1>\u001b[0;34m()\u001b[0m\n\u001b[0;32m----> 1\u001b[0m s1\u001b[38;5;241m=\u001b[39m\u001b[38;5;124;43m'\u001b[39;49m\u001b[38;5;124;43myou scored \u001b[39;49m\u001b[38;5;124;43m'\u001b[39;49m\u001b[38;5;241;43m+\u001b[39;49m\u001b[38;5;241;43m100\u001b[39;49m\u001b[38;5;241m+\u001b[39m\u001b[38;5;124m'\u001b[39m\u001b[38;5;124m points\u001b[39m\u001b[38;5;124m'\u001b[39m\n",
      "\u001b[0;31mTypeError\u001b[0m: can only concatenate str (not \"int\") to str"
     ]
    }
   ],
   "source": [
    "s1='you scored '+100+' points'"
   ]
  },
  {
   "cell_type": "code",
   "execution_count": 31,
   "id": "398a4767",
   "metadata": {},
   "outputs": [
    {
     "data": {
      "text/plain": [
       "'you scored 100 points'"
      ]
     },
     "execution_count": 31,
     "metadata": {},
     "output_type": "execute_result"
    }
   ],
   "source": [
    "s1='you scored '+str(100)+' points'\n",
    "s1"
   ]
  },
  {
   "cell_type": "code",
   "execution_count": 33,
   "id": "9ef50c43",
   "metadata": {},
   "outputs": [],
   "source": [
    "s2='-10'\n",
    "s3='10.4'"
   ]
  },
  {
   "cell_type": "code",
   "execution_count": 34,
   "id": "5ed567e1",
   "metadata": {},
   "outputs": [
    {
     "data": {
      "text/plain": [
       "'-1010.4'"
      ]
     },
     "execution_count": 34,
     "metadata": {},
     "output_type": "execute_result"
    }
   ],
   "source": [
    "s2+s3"
   ]
  },
  {
   "cell_type": "code",
   "execution_count": 35,
   "id": "ba0ff0da",
   "metadata": {},
   "outputs": [
    {
     "name": "stdout",
     "output_type": "stream",
     "text": [
      "0.40000000000000036\n"
     ]
    }
   ],
   "source": [
    "print(int(s2)+float(s3))"
   ]
  },
  {
   "cell_type": "markdown",
   "id": "05b8a3d3",
   "metadata": {},
   "source": [
    "### String formatting "
   ]
  },
  {
   "cell_type": "code",
   "execution_count": 37,
   "id": "82218031",
   "metadata": {},
   "outputs": [
    {
     "name": "stdout",
     "output_type": "stream",
     "text": [
      "4+8 is equal to 12\n"
     ]
    }
   ],
   "source": [
    "a,b=4,8\n",
    "\n",
    "s4=f'{a}+{b} is equal to {a+b}'\n",
    "print(s4)"
   ]
  },
  {
   "cell_type": "markdown",
   "id": "58e95ddf",
   "metadata": {},
   "source": [
    "### Modules"
   ]
  },
  {
   "cell_type": "code",
   "execution_count": 38,
   "id": "880bbef7",
   "metadata": {},
   "outputs": [
    {
     "ename": "NameError",
     "evalue": "name 'sin' is not defined",
     "output_type": "error",
     "traceback": [
      "\u001b[0;31m---------------------------------------------------------------------------\u001b[0m",
      "\u001b[0;31mNameError\u001b[0m                                 Traceback (most recent call last)",
      "Input \u001b[0;32mIn [38]\u001b[0m, in \u001b[0;36m<cell line: 1>\u001b[0;34m()\u001b[0m\n\u001b[0;32m----> 1\u001b[0m \u001b[43msin\u001b[49m(\u001b[38;5;241m0\u001b[39m)\n",
      "\u001b[0;31mNameError\u001b[0m: name 'sin' is not defined"
     ]
    }
   ],
   "source": [
    "sin(0)"
   ]
  },
  {
   "cell_type": "code",
   "execution_count": 41,
   "id": "6734f275",
   "metadata": {},
   "outputs": [],
   "source": [
    "from math import sin # importing the sin function from the math module"
   ]
  },
  {
   "cell_type": "code",
   "execution_count": 42,
   "id": "020e3472",
   "metadata": {},
   "outputs": [
    {
     "data": {
      "text/plain": [
       "0.0"
      ]
     },
     "execution_count": 42,
     "metadata": {},
     "output_type": "execute_result"
    }
   ],
   "source": [
    "sin(0)"
   ]
  },
  {
   "cell_type": "code",
   "execution_count": 43,
   "id": "003f939c",
   "metadata": {},
   "outputs": [],
   "source": [
    "import math # importing the whole math module"
   ]
  },
  {
   "cell_type": "code",
   "execution_count": 44,
   "id": "a4381e52",
   "metadata": {},
   "outputs": [
    {
     "data": {
      "text/plain": [
       "['__doc__',\n",
       " '__file__',\n",
       " '__loader__',\n",
       " '__name__',\n",
       " '__package__',\n",
       " '__spec__',\n",
       " 'acos',\n",
       " 'acosh',\n",
       " 'asin',\n",
       " 'asinh',\n",
       " 'atan',\n",
       " 'atan2',\n",
       " 'atanh',\n",
       " 'ceil',\n",
       " 'comb',\n",
       " 'copysign',\n",
       " 'cos',\n",
       " 'cosh',\n",
       " 'degrees',\n",
       " 'dist',\n",
       " 'e',\n",
       " 'erf',\n",
       " 'erfc',\n",
       " 'exp',\n",
       " 'expm1',\n",
       " 'fabs',\n",
       " 'factorial',\n",
       " 'floor',\n",
       " 'fmod',\n",
       " 'frexp',\n",
       " 'fsum',\n",
       " 'gamma',\n",
       " 'gcd',\n",
       " 'hypot',\n",
       " 'inf',\n",
       " 'isclose',\n",
       " 'isfinite',\n",
       " 'isinf',\n",
       " 'isnan',\n",
       " 'isqrt',\n",
       " 'lcm',\n",
       " 'ldexp',\n",
       " 'lgamma',\n",
       " 'log',\n",
       " 'log10',\n",
       " 'log1p',\n",
       " 'log2',\n",
       " 'modf',\n",
       " 'nan',\n",
       " 'nextafter',\n",
       " 'perm',\n",
       " 'pi',\n",
       " 'pow',\n",
       " 'prod',\n",
       " 'radians',\n",
       " 'remainder',\n",
       " 'sin',\n",
       " 'sinh',\n",
       " 'sqrt',\n",
       " 'tan',\n",
       " 'tanh',\n",
       " 'tau',\n",
       " 'trunc',\n",
       " 'ulp']"
      ]
     },
     "execution_count": 44,
     "metadata": {},
     "output_type": "execute_result"
    }
   ],
   "source": [
    "dir(math)"
   ]
  },
  {
   "cell_type": "code",
   "execution_count": 46,
   "id": "2279883e",
   "metadata": {},
   "outputs": [
    {
     "data": {
      "text/plain": [
       "1.0"
      ]
     },
     "execution_count": 46,
     "metadata": {},
     "output_type": "execute_result"
    }
   ],
   "source": [
    "math.cos(0)"
   ]
  },
  {
   "cell_type": "code",
   "execution_count": 49,
   "id": "571f08f4",
   "metadata": {},
   "outputs": [],
   "source": [
    "from math import * # careful to overwrite"
   ]
  },
  {
   "cell_type": "code",
   "execution_count": 48,
   "id": "d719b5e5",
   "metadata": {},
   "outputs": [
    {
     "data": {
      "text/plain": [
       "0.6931471805599453"
      ]
     },
     "execution_count": 48,
     "metadata": {},
     "output_type": "execute_result"
    }
   ],
   "source": [
    "log(2)"
   ]
  },
  {
   "cell_type": "code",
   "execution_count": 50,
   "id": "cd47c652",
   "metadata": {},
   "outputs": [],
   "source": [
    "import math as m"
   ]
  },
  {
   "cell_type": "code",
   "execution_count": 51,
   "id": "60ec3d7b",
   "metadata": {},
   "outputs": [
    {
     "data": {
      "text/plain": [
       "2.0"
      ]
     },
     "execution_count": 51,
     "metadata": {},
     "output_type": "execute_result"
    }
   ],
   "source": [
    "m.log10(100)"
   ]
  },
  {
   "cell_type": "code",
   "execution_count": 52,
   "id": "1545a1cc",
   "metadata": {},
   "outputs": [
    {
     "name": "stdout",
     "output_type": "stream",
     "text": [
      "Help on built-in function gamma in module math:\n",
      "\n",
      "gamma(x, /)\n",
      "    Gamma function at x.\n",
      "\n"
     ]
    }
   ],
   "source": [
    "help(gamma)"
   ]
  },
  {
   "cell_type": "markdown",
   "id": "fa38c08e",
   "metadata": {},
   "source": [
    "### Latex in markdown cells"
   ]
  },
  {
   "cell_type": "markdown",
   "id": "6bdc994f",
   "metadata": {},
   "source": [
    "* we need a `$` to start and finish a formula or `$$`\n",
    "* `$` inline formulas $\\int x dx= \\frac{1}{2} x^2 +C$\n",
    "* `$$` display formulas $$\\sum_{n=1}^\\infty \\frac{1}{2^n}=1 $$\n",
    "* `_` subscript $b_n$\n",
    "* `^` superscript $2^5=32$\n",
    "* `\\{` to do a curly bracket in Latex $$\\{ 2n \\}_{n=1}^\\infty=\\{2,\\ 4,\\, 6,\\quad 8,\\ldots \\}$$\n",
    "* To automaticall adjust the perenthesis height use `\\left(` and `\\right)`\n",
    "\n",
    "$(\\frac{3}{4})$ vs $\\left( \\frac{3}{4} \\right) $\n",
    "$ roots `\\sqrt[]{}` $$\\sqrt{9}=3$$\n",
    "$$\\sqrt[4]{16}=2$$"
   ]
  },
  {
   "cell_type": "markdown",
   "id": "374c8d51",
   "metadata": {},
   "source": [
    "### Boolean expressions"
   ]
  },
  {
   "cell_type": "code",
   "execution_count": 54,
   "id": "c5bd2ab2",
   "metadata": {},
   "outputs": [
    {
     "data": {
      "text/plain": [
       "True"
      ]
     },
     "execution_count": 54,
     "metadata": {},
     "output_type": "execute_result"
    }
   ],
   "source": [
    "4==2+2 # equality test"
   ]
  },
  {
   "cell_type": "code",
   "execution_count": 55,
   "id": "db005ef4",
   "metadata": {},
   "outputs": [
    {
     "data": {
      "text/plain": [
       "True"
      ]
     },
     "execution_count": 55,
     "metadata": {},
     "output_type": "execute_result"
    }
   ],
   "source": [
    "3>-2"
   ]
  },
  {
   "cell_type": "code",
   "execution_count": 56,
   "id": "d2f32d60",
   "metadata": {},
   "outputs": [
    {
     "data": {
      "text/plain": [
       "False"
      ]
     },
     "execution_count": 56,
     "metadata": {},
     "output_type": "execute_result"
    }
   ],
   "source": [
    "3<-2"
   ]
  },
  {
   "cell_type": "code",
   "execution_count": 57,
   "id": "39a2ef2e",
   "metadata": {},
   "outputs": [
    {
     "data": {
      "text/plain": [
       "True"
      ]
     },
     "execution_count": 57,
     "metadata": {},
     "output_type": "execute_result"
    }
   ],
   "source": [
    "32>=32"
   ]
  },
  {
   "cell_type": "code",
   "execution_count": 59,
   "id": "cfbca037",
   "metadata": {},
   "outputs": [
    {
     "data": {
      "text/plain": [
       "False"
      ]
     },
     "execution_count": 59,
     "metadata": {},
     "output_type": "execute_result"
    }
   ],
   "source": [
    "3!=3 # different from"
   ]
  },
  {
   "cell_type": "code",
   "execution_count": 60,
   "id": "70cf9a9a",
   "metadata": {},
   "outputs": [
    {
     "data": {
      "text/plain": [
       "True"
      ]
     },
     "execution_count": 60,
     "metadata": {},
     "output_type": "execute_result"
    }
   ],
   "source": [
    "3!=0"
   ]
  },
  {
   "cell_type": "code",
   "execution_count": 61,
   "id": "a652e33c",
   "metadata": {},
   "outputs": [
    {
     "data": {
      "text/plain": [
       "True"
      ]
     },
     "execution_count": 61,
     "metadata": {},
     "output_type": "execute_result"
    }
   ],
   "source": [
    "'hello'=='he'+'llo'"
   ]
  },
  {
   "cell_type": "code",
   "execution_count": 62,
   "id": "b5bf9a42",
   "metadata": {},
   "outputs": [
    {
     "data": {
      "text/plain": [
       "False"
      ]
     },
     "execution_count": 62,
     "metadata": {},
     "output_type": "execute_result"
    }
   ],
   "source": [
    "x='Hi'\n",
    "y='Hello'\n",
    "x==y"
   ]
  },
  {
   "cell_type": "code",
   "execution_count": 63,
   "id": "f456447c",
   "metadata": {},
   "outputs": [
    {
     "data": {
      "text/plain": [
       "False"
      ]
     },
     "execution_count": 63,
     "metadata": {},
     "output_type": "execute_result"
    }
   ],
   "source": [
    "x==4"
   ]
  },
  {
   "cell_type": "code",
   "execution_count": null,
   "id": "93a0927f",
   "metadata": {},
   "outputs": [],
   "source": []
  }
 ],
 "metadata": {
  "kernelspec": {
   "display_name": "Python 3 (ipykernel)",
   "language": "python",
   "name": "python3"
  },
  "language_info": {
   "codemirror_mode": {
    "name": "ipython",
    "version": 3
   },
   "file_extension": ".py",
   "mimetype": "text/x-python",
   "name": "python",
   "nbconvert_exporter": "python",
   "pygments_lexer": "ipython3",
   "version": "3.9.12"
  }
 },
 "nbformat": 4,
 "nbformat_minor": 5
}
