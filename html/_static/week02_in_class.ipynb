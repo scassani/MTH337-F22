{
 "cells": [
  {
   "cell_type": "markdown",
   "id": "35b0b75d",
   "metadata": {},
   "source": [
    "### week 2 - Wed"
   ]
  },
  {
   "cell_type": "code",
   "execution_count": 1,
   "id": "4de83dfb",
   "metadata": {},
   "outputs": [
    {
     "data": {
      "text/plain": [
       "False"
      ]
     },
     "execution_count": 1,
     "metadata": {},
     "output_type": "execute_result"
    }
   ],
   "source": [
    "3>5"
   ]
  },
  {
   "cell_type": "markdown",
   "id": "4792981e",
   "metadata": {},
   "source": [
    "### The `if` statement"
   ]
  },
  {
   "cell_type": "code",
   "execution_count": 2,
   "id": "bda809b9",
   "metadata": {},
   "outputs": [
    {
     "name": "stdout",
     "output_type": "stream",
     "text": [
      "Yay!\n"
     ]
    }
   ],
   "source": [
    "x=6\n",
    "\n",
    "if x>4:\n",
    "    print('Yay!')"
   ]
  },
  {
   "cell_type": "code",
   "execution_count": 5,
   "id": "526307ba",
   "metadata": {},
   "outputs": [],
   "source": [
    "x=3\n",
    "\n",
    "if x>4:\n",
    "    print('Yay!')"
   ]
  },
  {
   "cell_type": "code",
   "execution_count": 7,
   "id": "f178c8d8",
   "metadata": {},
   "outputs": [
    {
     "name": "stdout",
     "output_type": "stream",
     "text": [
      "small number\n"
     ]
    }
   ],
   "source": [
    "if x>4:\n",
    "    print('big number')\n",
    "else:\n",
    "    print(\"small number\")"
   ]
  },
  {
   "cell_type": "code",
   "execution_count": 8,
   "id": "d17da5d4",
   "metadata": {},
   "outputs": [
    {
     "name": "stdout",
     "output_type": "stream",
     "text": [
      "the number is 4\n"
     ]
    }
   ],
   "source": [
    "x=4\n",
    "\n",
    "if x>4:\n",
    "    print('big number')\n",
    "elif x==4:\n",
    "    print('the number is 4')\n",
    "else:\n",
    "    print(\"small number\")"
   ]
  },
  {
   "cell_type": "code",
   "execution_count": 9,
   "id": "5442b9ef",
   "metadata": {},
   "outputs": [
    {
     "name": "stdout",
     "output_type": "stream",
     "text": [
      "big number\n"
     ]
    }
   ],
   "source": [
    "x=6\n",
    "\n",
    "if x>4:\n",
    "    print('big number')\n",
    "elif x>5:\n",
    "    print('the number is bigger than 5')\n",
    "else:\n",
    "    print(\"small number\")"
   ]
  },
  {
   "cell_type": "code",
   "execution_count": 11,
   "id": "5c35ef35",
   "metadata": {},
   "outputs": [
    {
     "name": "stdout",
     "output_type": "stream",
     "text": [
      "the number is in between 2 and 4\n"
     ]
    }
   ],
   "source": [
    "x=3\n",
    "if x>4:\n",
    "    print('big number')\n",
    "elif x<2:\n",
    "    print('small number')\n",
    "else:\n",
    "    print(\"the number is in between 2 and 4\")"
   ]
  },
  {
   "cell_type": "markdown",
   "id": "fbfa700b",
   "metadata": {},
   "source": [
    "**Ex.**: write the code that given a string `mystr` prints the number of characters in the string if the string has more than 3 characters, or just 'this is a short string' otherwise"
   ]
  },
  {
   "cell_type": "code",
   "execution_count": 12,
   "id": "12c0f270",
   "metadata": {},
   "outputs": [
    {
     "data": {
      "text/plain": [
       "14"
      ]
     },
     "execution_count": 12,
     "metadata": {},
     "output_type": "execute_result"
    }
   ],
   "source": [
    "mystr='Rick and Morty'\n",
    "len(mystr)"
   ]
  },
  {
   "cell_type": "code",
   "execution_count": 13,
   "id": "03376317",
   "metadata": {},
   "outputs": [
    {
     "name": "stdout",
     "output_type": "stream",
     "text": [
      "the string has 14 characters\n"
     ]
    }
   ],
   "source": [
    "if len(mystr)<3:\n",
    "    print(\"short string\")\n",
    "else:\n",
    "    l=len(mystr)\n",
    "    print(f\"the string has {l} characters\")"
   ]
  },
  {
   "cell_type": "markdown",
   "id": "30236182",
   "metadata": {},
   "source": [
    "Write code to check if `d` divides `n`"
   ]
  },
  {
   "cell_type": "code",
   "execution_count": 14,
   "id": "bccf869a",
   "metadata": {},
   "outputs": [
    {
     "name": "stdout",
     "output_type": "stream",
     "text": [
      "the number might be prime\n"
     ]
    }
   ],
   "source": [
    "n=271\n",
    "d=7\n",
    "\n",
    "if n%d==0:\n",
    "    print('the number is not prime')\n",
    "else:\n",
    "    print('the number might be prime')"
   ]
  },
  {
   "cell_type": "code",
   "execution_count": 15,
   "id": "ed18fcd9",
   "metadata": {},
   "outputs": [
    {
     "name": "stdout",
     "output_type": "stream",
     "text": [
      "the number is not prime\n"
     ]
    }
   ],
   "source": [
    "n=27\n",
    "d=9\n",
    "\n",
    "if n%d==0:\n",
    "    print('the number is not prime')\n",
    "else:\n",
    "    print('the number might be prime')"
   ]
  },
  {
   "cell_type": "markdown",
   "id": "da8831e2",
   "metadata": {},
   "source": [
    "### lists and loops\n",
    "\n",
    "lists are created with `[]`"
   ]
  },
  {
   "cell_type": "code",
   "execution_count": 16,
   "id": "94770987",
   "metadata": {},
   "outputs": [],
   "source": [
    "mylist=['a',33,'hello']"
   ]
  },
  {
   "cell_type": "code",
   "execution_count": 17,
   "id": "ed8ea4a8",
   "metadata": {},
   "outputs": [
    {
     "data": {
      "text/plain": [
       "['a', 33, 'hello']"
      ]
     },
     "execution_count": 17,
     "metadata": {},
     "output_type": "execute_result"
    }
   ],
   "source": [
    "mylist"
   ]
  },
  {
   "cell_type": "code",
   "execution_count": 18,
   "id": "14a1128c",
   "metadata": {},
   "outputs": [
    {
     "name": "stdout",
     "output_type": "stream",
     "text": [
      "['a', 33, 'hello']\n"
     ]
    }
   ],
   "source": [
    "print(mylist)"
   ]
  },
  {
   "cell_type": "code",
   "execution_count": 19,
   "id": "f9828a03",
   "metadata": {},
   "outputs": [],
   "source": [
    "myl1=[1,2,3,4]\n",
    "myl2=['milan','rome','tuscany']"
   ]
  },
  {
   "cell_type": "code",
   "execution_count": 20,
   "id": "716d41bd",
   "metadata": {},
   "outputs": [
    {
     "data": {
      "text/plain": [
       "[1, 2, 3, 4, 'milan', 'rome', 'tuscany']"
      ]
     },
     "execution_count": 20,
     "metadata": {},
     "output_type": "execute_result"
    }
   ],
   "source": [
    "myl1+myl2"
   ]
  },
  {
   "cell_type": "code",
   "execution_count": 21,
   "id": "fa0edb19",
   "metadata": {},
   "outputs": [
    {
     "data": {
      "text/plain": [
       "[1, 2, 3, 4, 1, 2, 3, 4, 1, 2, 3, 4]"
      ]
     },
     "execution_count": 21,
     "metadata": {},
     "output_type": "execute_result"
    }
   ],
   "source": [
    "3*myl1"
   ]
  },
  {
   "cell_type": "code",
   "execution_count": 24,
   "id": "001da7ff",
   "metadata": {},
   "outputs": [],
   "source": [
    "myl2.append('venice') # to add elements to a list"
   ]
  },
  {
   "cell_type": "code",
   "execution_count": 25,
   "id": "a448d0e9",
   "metadata": {},
   "outputs": [
    {
     "data": {
      "text/plain": [
       "['milan', 'rome', 'tuscany', 'venice', 'venice']"
      ]
     },
     "execution_count": 25,
     "metadata": {},
     "output_type": "execute_result"
    }
   ],
   "source": [
    "myl2"
   ]
  },
  {
   "cell_type": "code",
   "execution_count": 26,
   "id": "d6378b9b",
   "metadata": {},
   "outputs": [],
   "source": [
    "myl3=myl2.append('naples')"
   ]
  },
  {
   "cell_type": "code",
   "execution_count": 27,
   "id": "978160eb",
   "metadata": {},
   "outputs": [
    {
     "data": {
      "text/plain": [
       "['milan', 'rome', 'tuscany', 'venice', 'venice', 'naples']"
      ]
     },
     "execution_count": 27,
     "metadata": {},
     "output_type": "execute_result"
    }
   ],
   "source": [
    "myl2"
   ]
  },
  {
   "cell_type": "code",
   "execution_count": 29,
   "id": "abe42425",
   "metadata": {},
   "outputs": [
    {
     "name": "stdout",
     "output_type": "stream",
     "text": [
      "None\n"
     ]
    }
   ],
   "source": [
    "print(myl3)"
   ]
  },
  {
   "cell_type": "markdown",
   "id": "57b4d3bd",
   "metadata": {},
   "source": [
    "Note: append does not create a new list"
   ]
  },
  {
   "cell_type": "code",
   "execution_count": 30,
   "id": "d2d8f905",
   "metadata": {},
   "outputs": [
    {
     "data": {
      "text/plain": [
       "['milan', 'rome', 'tuscany', 'venice', 'venice', 'naples']"
      ]
     },
     "execution_count": 30,
     "metadata": {},
     "output_type": "execute_result"
    }
   ],
   "source": [
    "myl3=myl2.copy()\n",
    "myl3"
   ]
  },
  {
   "cell_type": "code",
   "execution_count": 31,
   "id": "370a0e00",
   "metadata": {},
   "outputs": [
    {
     "data": {
      "text/plain": [
       "['milan', 'rome', 'tuscany', 'venice', 'venice', 'naples', 'lecce']"
      ]
     },
     "execution_count": 31,
     "metadata": {},
     "output_type": "execute_result"
    }
   ],
   "source": [
    "myl3.append('lecce')\n",
    "myl3"
   ]
  },
  {
   "cell_type": "code",
   "execution_count": 32,
   "id": "22212448",
   "metadata": {},
   "outputs": [
    {
     "data": {
      "text/plain": [
       "['milan', 'rome', 'tuscany', 'venice', 'venice', 'naples']"
      ]
     },
     "execution_count": 32,
     "metadata": {},
     "output_type": "execute_result"
    }
   ],
   "source": [
    "myl2"
   ]
  },
  {
   "cell_type": "markdown",
   "id": "f47abdcb",
   "metadata": {},
   "source": [
    "use `in` to check if something is in a list"
   ]
  },
  {
   "cell_type": "code",
   "execution_count": 33,
   "id": "a6ccdac4",
   "metadata": {},
   "outputs": [
    {
     "data": {
      "text/plain": [
       "True"
      ]
     },
     "execution_count": 33,
     "metadata": {},
     "output_type": "execute_result"
    }
   ],
   "source": [
    "'milan' in myl2"
   ]
  },
  {
   "cell_type": "code",
   "execution_count": 34,
   "id": "f3f79208",
   "metadata": {},
   "outputs": [
    {
     "data": {
      "text/plain": [
       "False"
      ]
     },
     "execution_count": 34,
     "metadata": {},
     "output_type": "execute_result"
    }
   ],
   "source": [
    "'florence' in myl2"
   ]
  },
  {
   "cell_type": "code",
   "execution_count": 35,
   "id": "afc3587b",
   "metadata": {},
   "outputs": [
    {
     "data": {
      "text/plain": [
       "6"
      ]
     },
     "execution_count": 35,
     "metadata": {},
     "output_type": "execute_result"
    }
   ],
   "source": [
    "len(myl2)"
   ]
  },
  {
   "cell_type": "markdown",
   "id": "d22c30d8",
   "metadata": {},
   "source": [
    "`for` loops"
   ]
  },
  {
   "cell_type": "code",
   "execution_count": 36,
   "id": "5ad709c2",
   "metadata": {},
   "outputs": [
    {
     "name": "stdout",
     "output_type": "stream",
     "text": [
      "milan is in Italy\n",
      "rome is in Italy\n",
      "tuscany is in Italy\n",
      "venice is in Italy\n",
      "venice is in Italy\n",
      "naples is in Italy\n"
     ]
    }
   ],
   "source": [
    "for k in myl2:\n",
    "    print(f\"{k} is in Italy\")"
   ]
  },
  {
   "cell_type": "code",
   "execution_count": 37,
   "id": "5962b20a",
   "metadata": {},
   "outputs": [
    {
     "name": "stdout",
     "output_type": "stream",
     "text": [
      "10 is not prime\n",
      "10 is not prime\n"
     ]
    }
   ],
   "source": [
    "n=10\n",
    "for d in [2,3,4,5,6,7,8,9]:\n",
    "    if (n%d==0):\n",
    "        print(f\"{n} is not prime\")"
   ]
  },
  {
   "cell_type": "markdown",
   "id": "da34f899",
   "metadata": {},
   "source": [
    "`range(a,b)` gives you all of the numbers between `a` and `b` (`b` not included) "
   ]
  },
  {
   "cell_type": "code",
   "execution_count": 38,
   "id": "09e087cc",
   "metadata": {},
   "outputs": [
    {
     "data": {
      "text/plain": [
       "range(2, 7)"
      ]
     },
     "execution_count": 38,
     "metadata": {},
     "output_type": "execute_result"
    }
   ],
   "source": [
    "range(2,7)"
   ]
  },
  {
   "cell_type": "code",
   "execution_count": 39,
   "id": "f4dce672",
   "metadata": {},
   "outputs": [
    {
     "data": {
      "text/plain": [
       "[2, 3, 4, 5, 6]"
      ]
     },
     "execution_count": 39,
     "metadata": {},
     "output_type": "execute_result"
    }
   ],
   "source": [
    "list(range(2,7))"
   ]
  },
  {
   "cell_type": "code",
   "execution_count": 40,
   "id": "ed2e567c",
   "metadata": {},
   "outputs": [
    {
     "name": "stdout",
     "output_type": "stream",
     "text": [
      "2\n",
      "3\n",
      "4\n",
      "5\n",
      "6\n"
     ]
    }
   ],
   "source": [
    "for w in range(2,7):\n",
    "    print(w)"
   ]
  },
  {
   "cell_type": "code",
   "execution_count": 41,
   "id": "2182da1c",
   "metadata": {},
   "outputs": [
    {
     "name": "stdout",
     "output_type": "stream",
     "text": [
      "0\n",
      "1\n",
      "2\n",
      "3\n",
      "4\n",
      "5\n",
      "6\n"
     ]
    }
   ],
   "source": [
    "for w in range(7):\n",
    "    print(w)"
   ]
  },
  {
   "cell_type": "code",
   "execution_count": 44,
   "id": "a2759636",
   "metadata": {},
   "outputs": [
    {
     "name": "stdout",
     "output_type": "stream",
     "text": [
      "1\n",
      "3\n",
      "5\n"
     ]
    }
   ],
   "source": [
    "for w in range(1,7,2):\n",
    "    print(w)"
   ]
  },
  {
   "cell_type": "code",
   "execution_count": 47,
   "id": "480b01fc",
   "metadata": {},
   "outputs": [
    {
     "name": "stdout",
     "output_type": "stream",
     "text": [
      "133 is not prime\n",
      "133 is not prime\n"
     ]
    }
   ],
   "source": [
    "n=133\n",
    "for d in range(2,n):\n",
    "    if (n%d==0):\n",
    "        print(f\"{n} is not prime\")"
   ]
  },
  {
   "cell_type": "code",
   "execution_count": 48,
   "id": "3dc088e6",
   "metadata": {},
   "outputs": [
    {
     "name": "stdout",
     "output_type": "stream",
     "text": [
      "1024 is not prime\n",
      "1024 is not prime\n",
      "1024 is not prime\n",
      "1024 is not prime\n",
      "1024 is not prime\n",
      "1024 is not prime\n",
      "1024 is not prime\n",
      "1024 is not prime\n",
      "1024 is not prime\n"
     ]
    }
   ],
   "source": [
    "n=1024\n",
    "for d in range(2,n):\n",
    "    if (n%d==0):\n",
    "        print(f\"{n} is not prime\")"
   ]
  },
  {
   "cell_type": "code",
   "execution_count": 51,
   "id": "573b49dc",
   "metadata": {},
   "outputs": [],
   "source": [
    "n=1024\n",
    "isprime=True\n",
    "for d in range(2,n):\n",
    "    if (n%d==0):\n",
    "        isprime=False"
   ]
  },
  {
   "cell_type": "code",
   "execution_count": 52,
   "id": "7748bd2e",
   "metadata": {},
   "outputs": [
    {
     "name": "stdout",
     "output_type": "stream",
     "text": [
      "False\n"
     ]
    }
   ],
   "source": [
    "print(isprime)"
   ]
  },
  {
   "cell_type": "code",
   "execution_count": 53,
   "id": "f46e5bde",
   "metadata": {},
   "outputs": [
    {
     "name": "stdout",
     "output_type": "stream",
     "text": [
      "True\n"
     ]
    }
   ],
   "source": [
    "n=17\n",
    "isprime=True\n",
    "for d in range(2,n):\n",
    "    if (n%d==0):\n",
    "        isprime=False\n",
    "print(isprime)"
   ]
  },
  {
   "cell_type": "markdown",
   "id": "9fa606f2",
   "metadata": {},
   "source": [
    "### `break` and `continue`"
   ]
  },
  {
   "cell_type": "markdown",
   "id": "9d34c0c5",
   "metadata": {},
   "source": [
    "`break` stops the inner-most loop\n",
    "\n",
    "`continue` skips one instance of the loop"
   ]
  },
  {
   "cell_type": "code",
   "execution_count": 56,
   "id": "8e0b7c7b",
   "metadata": {},
   "outputs": [
    {
     "name": "stdout",
     "output_type": "stream",
     "text": [
      "s\n",
      "u\n",
      "n\n",
      "y\n",
      " \n",
      "b\n",
      "u\n",
      "found the f\n"
     ]
    }
   ],
   "source": [
    "for k in 'suny buffalo':\n",
    "    if k=='f':\n",
    "        print('found the f')\n",
    "        break\n",
    "    print(k)"
   ]
  },
  {
   "cell_type": "code",
   "execution_count": 57,
   "id": "6290473e",
   "metadata": {},
   "outputs": [
    {
     "name": "stdout",
     "output_type": "stream",
     "text": [
      "s\n",
      "u\n",
      "n\n",
      "y\n",
      " \n",
      "b\n",
      "u\n",
      "a\n",
      "l\n",
      "o\n"
     ]
    }
   ],
   "source": [
    "for k in 'suny buffalo':\n",
    "    if k=='f':\n",
    "        #print('found the f')\n",
    "        continue\n",
    "    print(k)"
   ]
  },
  {
   "cell_type": "code",
   "execution_count": 59,
   "id": "b1a1662f",
   "metadata": {},
   "outputs": [
    {
     "name": "stdout",
     "output_type": "stream",
     "text": [
      "jello\n",
      "False\n"
     ]
    }
   ],
   "source": [
    "n=1024\n",
    "isprime=True\n",
    "for d in range(2,n):\n",
    "    if (n%d==0):\n",
    "        print('jello')\n",
    "        isprime=False\n",
    "        break\n",
    "print(isprime)"
   ]
  },
  {
   "cell_type": "markdown",
   "id": "ac86112b",
   "metadata": {},
   "source": [
    "### function"
   ]
  },
  {
   "cell_type": "code",
   "execution_count": 64,
   "id": "a6b6ca46",
   "metadata": {},
   "outputs": [],
   "source": [
    "def f(a,b):\n",
    "    c=a+b\n",
    "    print(f\"{a} + {b} is {c}\")\n",
    "    return a-b,c #output"
   ]
  },
  {
   "cell_type": "code",
   "execution_count": 65,
   "id": "7129603a",
   "metadata": {},
   "outputs": [
    {
     "name": "stdout",
     "output_type": "stream",
     "text": [
      "3 + 17 is 20\n"
     ]
    },
    {
     "data": {
      "text/plain": [
       "(-14, 20)"
      ]
     },
     "execution_count": 65,
     "metadata": {},
     "output_type": "execute_result"
    }
   ],
   "source": [
    "a=3\n",
    "b=17\n",
    "f(a,b)"
   ]
  },
  {
   "cell_type": "code",
   "execution_count": 66,
   "id": "c51aa5b3",
   "metadata": {},
   "outputs": [
    {
     "ename": "NameError",
     "evalue": "name 'c' is not defined",
     "output_type": "error",
     "traceback": [
      "\u001b[0;31m---------------------------------------------------------------------------\u001b[0m",
      "\u001b[0;31mNameError\u001b[0m                                 Traceback (most recent call last)",
      "Input \u001b[0;32mIn [66]\u001b[0m, in \u001b[0;36m<cell line: 1>\u001b[0;34m()\u001b[0m\n\u001b[0;32m----> 1\u001b[0m \u001b[43mc\u001b[49m\n",
      "\u001b[0;31mNameError\u001b[0m: name 'c' is not defined"
     ]
    }
   ],
   "source": [
    "c"
   ]
  },
  {
   "cell_type": "code",
   "execution_count": 67,
   "id": "50b1c666",
   "metadata": {},
   "outputs": [
    {
     "name": "stdout",
     "output_type": "stream",
     "text": [
      "3 + 17 is 20\n"
     ]
    }
   ],
   "source": [
    "d,s=f(a,b)"
   ]
  },
  {
   "cell_type": "code",
   "execution_count": 68,
   "id": "d9bb47a2",
   "metadata": {},
   "outputs": [
    {
     "data": {
      "text/plain": [
       "-14"
      ]
     },
     "execution_count": 68,
     "metadata": {},
     "output_type": "execute_result"
    }
   ],
   "source": [
    "d"
   ]
  },
  {
   "cell_type": "code",
   "execution_count": 69,
   "id": "089f33ec",
   "metadata": {},
   "outputs": [
    {
     "data": {
      "text/plain": [
       "20"
      ]
     },
     "execution_count": 69,
     "metadata": {},
     "output_type": "execute_result"
    }
   ],
   "source": [
    "s"
   ]
  },
  {
   "cell_type": "code",
   "execution_count": null,
   "id": "d74a386c",
   "metadata": {},
   "outputs": [],
   "source": []
  },
  {
   "cell_type": "code",
   "execution_count": 70,
   "id": "19d7a5c5",
   "metadata": {},
   "outputs": [
    {
     "name": "stdout",
     "output_type": "stream",
     "text": [
      "12 + -14 is -2\n"
     ]
    },
    {
     "data": {
      "text/plain": [
       "(26, -2)"
      ]
     },
     "execution_count": 70,
     "metadata": {},
     "output_type": "execute_result"
    }
   ],
   "source": [
    "f(12,d)"
   ]
  },
  {
   "cell_type": "code",
   "execution_count": 77,
   "id": "334f46d9",
   "metadata": {},
   "outputs": [],
   "source": [
    "def f(a,b=2): # b is 2 by default unless said otherwise\n",
    "    # a is the first number\n",
    "    # b is the second number\n",
    "    return a+b"
   ]
  },
  {
   "cell_type": "code",
   "execution_count": 74,
   "id": "53a3986c",
   "metadata": {},
   "outputs": [
    {
     "data": {
      "text/plain": [
       "11"
      ]
     },
     "execution_count": 74,
     "metadata": {},
     "output_type": "execute_result"
    }
   ],
   "source": [
    "f(9)"
   ]
  },
  {
   "cell_type": "code",
   "execution_count": 75,
   "id": "ec93b860",
   "metadata": {},
   "outputs": [
    {
     "data": {
      "text/plain": [
       "12"
      ]
     },
     "execution_count": 75,
     "metadata": {},
     "output_type": "execute_result"
    }
   ],
   "source": [
    "f(9,3)"
   ]
  },
  {
   "cell_type": "code",
   "execution_count": 76,
   "id": "92d89fde",
   "metadata": {},
   "outputs": [
    {
     "data": {
      "text/plain": [
       "9"
      ]
     },
     "execution_count": 76,
     "metadata": {},
     "output_type": "execute_result"
    }
   ],
   "source": [
    "f(b=4,a=5)"
   ]
  },
  {
   "cell_type": "markdown",
   "id": "bef2688c",
   "metadata": {},
   "source": [
    "1. Define a function called `isprime(n)` that returns `True` if `n` is prime, `False` otherwise\n",
    "2. Look at the project description on the class website\n",
    "3. Do the weekly summary"
   ]
  },
  {
   "cell_type": "code",
   "execution_count": null,
   "id": "6f580b28",
   "metadata": {},
   "outputs": [],
   "source": []
  }
 ],
 "metadata": {
  "kernelspec": {
   "display_name": "Python 3 (ipykernel)",
   "language": "python",
   "name": "python3"
  },
  "language_info": {
   "codemirror_mode": {
    "name": "ipython",
    "version": 3
   },
   "file_extension": ".py",
   "mimetype": "text/x-python",
   "name": "python",
   "nbconvert_exporter": "python",
   "pygments_lexer": "ipython3",
   "version": "3.9.12"
  }
 },
 "nbformat": 4,
 "nbformat_minor": 5
}
